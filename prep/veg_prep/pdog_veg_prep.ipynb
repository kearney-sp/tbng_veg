{
 "cells": [
  {
   "cell_type": "code",
   "execution_count": 2,
   "id": "efcf26cd-ca95-4bd3-8538-83416787d72d",
   "metadata": {},
   "outputs": [],
   "source": [
    "import pandas as pd\n",
    "import os\n",
    "import re\n",
    "import numpy as np\n",
    "import datetime\n",
    "import seaborn as sns\n",
    "import matplotlib.pyplot as plt\n",
    "import geopandas as gpd"
   ]
  },
  {
   "cell_type": "markdown",
   "id": "261bc742-1879-401b-a753-8cc084ad219a",
   "metadata": {
    "tags": []
   },
   "source": [
    "# Create initial datasets"
   ]
  },
  {
   "cell_type": "markdown",
   "id": "f578f891-eda2-4fa9-9816-70683b67d43c",
   "metadata": {
    "tags": []
   },
   "source": [
    "### Setup input/output"
   ]
  },
  {
   "cell_type": "code",
   "execution_count": 3,
   "id": "960bed92-3139-4f8a-83c2-e22a58d4b25b",
   "metadata": {},
   "outputs": [],
   "source": [
    "# set working directory to project directory\n",
    "#os.chdir('')"
   ]
  },
  {
   "cell_type": "code",
   "execution_count": 4,
   "id": "3408784c-baca-42cd-a1fa-9f95e7ff2eb8",
   "metadata": {},
   "outputs": [],
   "source": [
    "# set base directory\n",
    "baseDIR = '../..'\n",
    "\n",
    "# set input directory\n",
    "inDIR = 'data/orig'\n",
    "\n",
    "# set output directories\n",
    "outDIR_clip = 'data/clip'\n",
    "outDIR_vor = 'data/vor'\n",
    "outDIR_vor_train = 'data/vor_train'\n",
    "if not os.path.exists(os.path.join(baseDIR, outDIR_clip)):\n",
    "    os.mkdir(os.path.join(baseDIR, outDIR_clip))\n",
    "if not os.path.exists(os.path.join(baseDIR, outDIR_vor)):\n",
    "    os.mkdir(os.path.join(baseDIR, outDIR_vor))\n",
    "if not os.path.exists(os.path.join(baseDIR, outDIR_vor_train)):\n",
    "    os.mkdir(os.path.join(baseDIR, outDIR_vor_train))\n",
    "    \n",
    "# set input file for biomass and associated data\n",
    "inXLSX = 'PrairieDogPostPlagueBiomassProject_29April2025_spk.xlsx'\n",
    "\n",
    "# set input file for coordinates used in spring 2023 sampling\n",
    "inXLSX_coords = 'PDogBiomassCoordinatesChecklist_March2023.xlsx'\n",
    "\n",
    "# set input file for 2021 'A' transects\n",
    "pdog_a_trnx = 'A_transects_start-end_2021.shp'\n",
    "# data originally in 'T:/3-GIS/ThunderBasin/Pdog_Vegetation/A_transects_start-end_2021.shp'\n",
    "\n",
    "# set input file for 2021 'Roth' transects\n",
    "pdog_roth_pts = 'finalbmz_2021.shp'\n",
    "# data originally in 'T:/3-GIS/ThunderBasin/Bird_Habitats_Project/BMZ/finalbmz_2021.shp'\n",
    "\n",
    "# set size of clipping quadrat for calculating biomass density\n",
    "quad_size_m2 = 0.5"
   ]
  },
  {
   "cell_type": "markdown",
   "id": "0d8e65b1-6114-483c-b712-0cfc132beff1",
   "metadata": {},
   "source": [
    "### Load data"
   ]
  },
  {
   "cell_type": "code",
   "execution_count": 5,
   "id": "b94c6dec-acdc-48da-9057-8d2ff3c1b681",
   "metadata": {},
   "outputs": [],
   "source": [
    "# create an Excel file object for investigating contents\n",
    "pdog_xlsx = pd.ExcelFile(os.path.join(baseDIR, inDIR, inXLSX))\n",
    "\n",
    "coords_xlsx = pd.ExcelFile(os.path.join(baseDIR, inDIR, inXLSX_coords))"
   ]
  },
  {
   "cell_type": "code",
   "execution_count": 6,
   "id": "c2e8117f-8f33-4d88-932c-460679fc74eb",
   "metadata": {},
   "outputs": [
    {
     "data": {
      "text/plain": [
       "['CoordinateQAQC',\n",
       " 'Soils_and_Env_Covariates',\n",
       " 'MetaData',\n",
       " 'Biomass',\n",
       " 'PrairieDogBurrows',\n",
       " 'ShrubMeasurements',\n",
       " 'VOR',\n",
       " 'SpeciesRichness']"
      ]
     },
     "metadata": {},
     "output_type": "display_data"
    }
   ],
   "source": [
    "# display the sheet names in the .xlsx file\n",
    "display(pdog_xlsx.sheet_names)"
   ]
  },
  {
   "cell_type": "code",
   "execution_count": 7,
   "id": "bf096f2c-8d7e-4a39-94e6-5bb5ef020c99",
   "metadata": {},
   "outputs": [
    {
     "data": {
      "text/plain": [
       "['Point checklist', 'summer 2022 clipping coord']"
      ]
     },
     "metadata": {},
     "output_type": "display_data"
    }
   ],
   "source": [
    "# display the sheet names in the .xlsx file\n",
    "display(coords_xlsx.sheet_names)"
   ]
  },
  {
   "cell_type": "markdown",
   "id": "ccf2e9a8-ecee-4ea1-9fb3-ca7b67669bdd",
   "metadata": {},
   "source": [
    "### Biomass clipping"
   ]
  },
  {
   "cell_type": "code",
   "execution_count": 8,
   "id": "efc29997-fc04-42fc-ad52-a7a5dfcad362",
   "metadata": {},
   "outputs": [],
   "source": [
    "# load necessary data\n",
    "df_pdog_bm = pdog_xlsx.parse(sheet_name='Biomass', header=0)\n",
    "df_pdog_sr = pdog_xlsx.parse(sheet_name='SpeciesRichness', header=0)\n",
    "df_pdog_coords = pdog_xlsx.parse(sheet_name='MetaData', header=0)\n",
    "#df_pdog_coords = pdog_xlsx.parse(sheet_name='CoordinateQAQC', header=0)\n",
    "#df_pdog_coords_s23 = coords_xlsx.parse(sheet_name='Point checklist', header=0)"
   ]
  },
  {
   "cell_type": "code",
   "execution_count": 9,
   "id": "702de6b8-4cad-419f-a662-42af3a720c62",
   "metadata": {},
   "outputs": [],
   "source": [
    "# rename point that is duplicated (see email from Katie)\n",
    "#df_pdog_bm.loc[(df_pdog_bm['point'] == 'C4.5/C4_O') &\n",
    "#                (df_pdog_bm['notes'].str.contains('duplicat')), 'point'] = 'C4_P/C4.8'"
   ]
  },
  {
   "cell_type": "code",
   "execution_count": 10,
   "id": "1825d3f1-258c-47aa-8acd-8a781dbc5540",
   "metadata": {},
   "outputs": [
    {
     "data": {
      "text/plain": [
       "array([], dtype=object)"
      ]
     },
     "execution_count": 10,
     "metadata": {},
     "output_type": "execute_result"
    }
   ],
   "source": [
    "df_pdog_sr['point'][~df_pdog_sr['point'].isin(df_pdog_bm['point'].unique())].unique()"
   ]
  },
  {
   "cell_type": "code",
   "execution_count": 11,
   "id": "12ec95b9-a2f2-4963-9af0-721757e5d2ff",
   "metadata": {},
   "outputs": [
    {
     "data": {
      "text/plain": [
       "array(['Trashgrass'], dtype=object)"
      ]
     },
     "execution_count": 11,
     "metadata": {},
     "output_type": "execute_result"
    }
   ],
   "source": [
    "df_pdog_bm['point'][~df_pdog_bm['point'].isin(df_pdog_sr['point'].unique())].unique()"
   ]
  },
  {
   "cell_type": "code",
   "execution_count": 12,
   "id": "e459a097-b2d7-482a-bbe4-b4c4a43decbd",
   "metadata": {},
   "outputs": [],
   "source": [
    "# rename points in clipping and cover datasets to match\n",
    "df_pdog_sr.loc[df_pdog_sr['point'] == 'E51,3', 'point'] = 'E51.3'"
   ]
  },
  {
   "cell_type": "code",
   "execution_count": 13,
   "id": "c3e653ee-4415-4eff-a0a7-f581b5062a47",
   "metadata": {},
   "outputs": [],
   "source": [
    "# drop null dates\n",
    "df_pdog_bm = df_pdog_bm[df_pdog_bm['date'] != 'na'].copy()"
   ]
  },
  {
   "cell_type": "code",
   "execution_count": 14,
   "id": "6b06e4c2-0211-43a9-9d50-0b7381d38a44",
   "metadata": {},
   "outputs": [],
   "source": [
    "# fix data type for column 'SD total'\n",
    "df_pdog_bm.loc[df_pdog_bm['SD total'].isin([-1, 'x']), 'SD total'] = np.nan\n",
    "df_pdog_bm['SD total'] = df_pdog_bm['SD total'].astype(float)"
   ]
  },
  {
   "cell_type": "code",
   "execution_count": 15,
   "id": "75cc7134-9e5e-4bc9-88dc-f396d17af81e",
   "metadata": {},
   "outputs": [],
   "source": [
    "# fix data type for column '% YUGL cover'\n",
    "df_pdog_sr.loc[df_pdog_sr['% YUGL cover'].isin([-1, '2 plants?']), '% YUGL cover'] = np.nan\n",
    "df_pdog_sr['% YUGL cover'] = df_pdog_sr['% YUGL cover'].astype(float)"
   ]
  },
  {
   "cell_type": "code",
   "execution_count": 16,
   "id": "b682c6b6-ac85-45ca-bb10-7720a67ea9ca",
   "metadata": {},
   "outputs": [],
   "source": [
    "# cover -1 to NAN for remaining columns\n",
    "for c in df_pdog_sr.columns[df_pdog_sr.dtypes == float]:\n",
    "    df_pdog_sr.loc[df_pdog_sr[c] == -1.0, c] = np.nan\n",
    "for c in df_pdog_bm.columns[df_pdog_bm.dtypes == float]:\n",
    "    df_pdog_bm.loc[df_pdog_bm[c] == -1.0, c] = np.nan"
   ]
  },
  {
   "cell_type": "code",
   "execution_count": 17,
   "id": "799f5a50-466e-4180-8353-f38c3cdcdc07",
   "metadata": {},
   "outputs": [],
   "source": [
    "# drop any rows with missing biomass data\n",
    "df_pdog_bm = df_pdog_bm[~df_pdog_bm['TotalCurrentYear'].isnull()].copy()"
   ]
  },
  {
   "cell_type": "code",
   "execution_count": 18,
   "id": "c5b8bbd7-9c98-484f-b93a-07c832a64422",
   "metadata": {},
   "outputs": [],
   "source": [
    "# calculate total biomass density in g/m^2 by summing SD and live and adjusting for quadrat size\n",
    "df_pdog_bm['Total_Weight_(g/m^2)'] = df_pdog_bm[['TotalCurrentYear',\n",
    "                                                 'SD total']].sum(axis=1) / quad_size_m2"
   ]
  },
  {
   "cell_type": "code",
   "execution_count": 19,
   "id": "a76bca87-f378-48ae-9870-a924cba04aed",
   "metadata": {},
   "outputs": [],
   "source": [
    "# aggregate clipping data\n",
    "df_pdog_bm_agg = df_pdog_bm.groupby(['date', 'point']).mean().reset_index()\n",
    "\n",
    "# aggregate cover data\n",
    "df_pdog_sr_agg = df_pdog_sr.groupby(['date', 'point']).mean().reset_index()"
   ]
  },
  {
   "cell_type": "code",
   "execution_count": 20,
   "id": "7f4903a7-8aac-488f-a8c8-cb2f4cce85aa",
   "metadata": {},
   "outputs": [],
   "source": [
    "df_pdog_fnl = pd.merge_asof(df_pdog_bm_agg.sort_values('date'),\n",
    "                         df_pdog_sr_agg.sort_values('date'),\n",
    "                         on= 'date',\n",
    "                         by=['point'],\n",
    "                         direction= 'nearest',\n",
    "                         tolerance= datetime.timedelta(days= 22),\n",
    "                         suffixes=['_bm', '_sr'])"
   ]
  },
  {
   "cell_type": "code",
   "execution_count": 21,
   "id": "2a8b02f2-9d05-4211-a532-5bd75516c5e1",
   "metadata": {},
   "outputs": [],
   "source": [
    "bad_plots = df_pdog_fnl.groupby('point').mean()[((df_pdog_fnl.groupby('point').mean()['%shrub Cover'] +\n",
    "                                                  df_pdog_fnl.groupby('point').mean()['% YUGL cover']) >= 20)]"
   ]
  },
  {
   "cell_type": "code",
   "execution_count": 22,
   "id": "eb84ce72-3c1d-4369-b2b9-12f88284de03",
   "metadata": {},
   "outputs": [],
   "source": [
    "df_pdog_fnl['cacti_cladodes'] = df_pdog_fnl['cacti_cladodes'].transform(lambda x: 0.0 if np.isnan(x) else x)\n",
    "df_pdog_fnl['%shrub Cover'] = df_pdog_fnl['%shrub Cover'].transform(lambda x: 0.0 if np.isnan(x) else x)\n",
    "df_pdog_fnl['% YUGL cover'] = df_pdog_fnl['% YUGL cover'].transform(lambda x: 0.0 if np.isnan(x) else x)"
   ]
  },
  {
   "cell_type": "code",
   "execution_count": 23,
   "id": "3f1592c4-ab16-4602-9159-6b47b344bc3d",
   "metadata": {},
   "outputs": [],
   "source": [
    "df_pdog_fnl = df_pdog_fnl[(df_pdog_fnl['cacti_cladodes'] < 50) &\n",
    "                          ((df_pdog_fnl['%shrub Cover'] +\n",
    "                            df_pdog_fnl['% YUGL cover']) < 20) &\n",
    "                          (~df_pdog_fnl['point'].isin(bad_plots.index))].copy()"
   ]
  },
  {
   "cell_type": "code",
   "execution_count": 24,
   "id": "ca7e2f1e-c833-492d-9c43-59817e106f2e",
   "metadata": {},
   "outputs": [
    {
     "data": {
      "text/plain": [
       "<AxesSubplot:xlabel='year', ylabel='Total_Weight_(g/m^2)'>"
      ]
     },
     "execution_count": 24,
     "metadata": {},
     "output_type": "execute_result"
    },
    {
     "data": {
      "image/png": "[encoded data removed]",
      "text/plain": [
       "<Figure size 640x480 with 1 Axes>"
      ]
     },
     "metadata": {},
     "output_type": "display_data"
    }
   ],
   "source": [
    "sns.boxplot(x='year', y='Total_Weight_(g/m^2)', data=df_pdog_fnl)"
   ]
  },
  {
   "cell_type": "code",
   "execution_count": 25,
   "id": "44480e20-a136-489d-bb8a-5f0181ea3154",
   "metadata": {},
   "outputs": [
    {
     "data": {
      "text/plain": [
       "array([], dtype=object)"
      ]
     },
     "execution_count": 25,
     "metadata": {},
     "output_type": "execute_result"
    }
   ],
   "source": [
    "df_pdog_fnl['point'][~df_pdog_fnl['point'].isin(df_pdog_coords['point'].unique())].unique()"
   ]
  },
  {
   "cell_type": "code",
   "execution_count": 26,
   "id": "a6231d66-1256-4ede-be48-19578d6aa757",
   "metadata": {},
   "outputs": [
    {
     "data": {
      "text/plain": [
       "array(['C4.8', 'C4.5/C4_O', 'PVSage Clayey', 'PVSage Loamy', 'GMDR B1',\n",
       "       'GMDR B2', 'GMDR B3', 'NEX lakecreek-control',\n",
       "       'NEX lakecreek-fire', 'NEX lakecreek-prairiedog',\n",
       "       'NEX steckley-control', 'NEX steckley-prairiedog',\n",
       "       'NEX wildcat-control', 'NEX wildcat-fire',\n",
       "       'NEX wildcat-prairiedog', 'NEX westfork-control',\n",
       "       'NEX westfork-fire', 'NEX westfork-prairiedog', 'E30_P/E30.3'],\n",
       "      dtype=object)"
      ]
     },
     "execution_count": 26,
     "metadata": {},
     "output_type": "execute_result"
    }
   ],
   "source": [
    "df_pdog_coords['point'][~df_pdog_coords['point'].isin(df_pdog_fnl['point'].unique())].unique()"
   ]
  },
  {
   "cell_type": "code",
   "execution_count": null,
   "id": "f39fde68-8af7-469a-ad64-b57002080258",
   "metadata": {},
   "outputs": [],
   "source": []
  },
  {
   "cell_type": "code",
   "execution_count": 27,
   "id": "bd123d88-6421-49b4-99e8-cdc70f82c3df",
   "metadata": {},
   "outputs": [],
   "source": [
    "# rename points with multiple names to be the name that matches in gdf_roth_pts\n",
    "#pt_rename_list = ['C4_P/C4.8', 'C2_P/C2.7', 'E30_O/E30.6', \n",
    "#                  'C2_C/C2.1', 'C4_C/E36.3', 'C4_O/C4.5', 'C2_O/E37.2']\n",
    "#df_pdog_fnl['point'] = df_pdog_fnl['point'].apply(lambda x: '/'.join([x.split('/')[1], x.split('/')[0]]) if x in pt_rename_list else x)"
   ]
  },
  {
   "cell_type": "code",
   "execution_count": 28,
   "id": "516b0669-64b3-4c3d-adcf-631cf224591d",
   "metadata": {},
   "outputs": [],
   "source": [
    "#df_pdog_fnl['point'][~df_pdog_fnl['point'].isin(df_pdog_coords['point'].unique())].unique()"
   ]
  },
  {
   "cell_type": "code",
   "execution_count": 29,
   "id": "77f5e717-ecb1-43c8-b4de-caa7c3f1b388",
   "metadata": {},
   "outputs": [],
   "source": [
    "df_pdog_coords = df_pdog_coords.rename(columns={'GPS_N': 'Mean.GPS_N.Biomass',\n",
    "                                        'GPS_E': 'Mean.GPS_E.Biomass'})"
   ]
  },
  {
   "cell_type": "code",
   "execution_count": 30,
   "id": "82126b74-0b03-469f-8e88-cbaf2f54c5d2",
   "metadata": {},
   "outputs": [],
   "source": [
    "# combine biomass and environmental datasets\n",
    "df_pdog_fnl = pd.merge_asof(df_pdog_fnl.sort_values('date'),\n",
    "                            df_pdog_coords[['point', 'date', 'Mean.GPS_E.Biomass', 'Mean.GPS_N.Biomass']].sort_values('date'),\n",
    "                            on='date',\n",
    "                            by='point',\n",
    "                            tolerance=datetime.timedelta(days=7),\n",
    "                            direction='nearest')"
   ]
  },
  {
   "cell_type": "code",
   "execution_count": 31,
   "id": "a7c684c9-7c8a-439e-b2c5-a430d7f52307",
   "metadata": {},
   "outputs": [
    {
     "data": {
      "text/plain": [
       "Mean.GPS_E.Biomass    False\n",
       "Mean.GPS_N.Biomass    False\n",
       "dtype: bool"
      ]
     },
     "execution_count": 31,
     "metadata": {},
     "output_type": "execute_result"
    }
   ],
   "source": [
    "df_pdog_fnl[['Mean.GPS_E.Biomass', 'Mean.GPS_N.Biomass']].isnull().any()"
   ]
  },
  {
   "cell_type": "code",
   "execution_count": 32,
   "id": "8c599d9f-6d81-41bc-b821-810b15ad518a",
   "metadata": {},
   "outputs": [],
   "source": [
    "#df_pdog_fnl[df_pdog_fnl[['Mean.GPS_E.Biomass', 'Mean.GPS_N.Biomass']].isnull().any(axis=1)].sort_values('point')"
   ]
  },
  {
   "cell_type": "code",
   "execution_count": 33,
   "id": "a6853455-eef9-40fb-9506-800dbd5cc9d0",
   "metadata": {},
   "outputs": [
    {
     "data": {
      "text/plain": [
       "False"
      ]
     },
     "execution_count": 33,
     "metadata": {},
     "output_type": "execute_result"
    }
   ],
   "source": [
    "df_pdog_fnl['Total_Weight_(g/m^2)'].isnull().any()"
   ]
  },
  {
   "cell_type": "code",
   "execution_count": 34,
   "id": "9d6b672c-1ae5-4280-8401-c90ecf51eea9",
   "metadata": {},
   "outputs": [],
   "source": [
    "df_pdog_fnl.to_csv(os.path.join(baseDIR, outDIR_clip, 'TB_pdog_clip.csv'), index=False)"
   ]
  },
  {
   "cell_type": "markdown",
   "id": "d5c3a187-e9cb-4fa6-a820-adcf59765a7f",
   "metadata": {},
   "source": [
    "### VOR"
   ]
  },
  {
   "cell_type": "code",
   "execution_count": 35,
   "id": "3db30d2e-6adb-482b-8bc8-848b8b662909",
   "metadata": {},
   "outputs": [],
   "source": [
    "df_pdog_vor = pdog_xlsx.parse(sheet_name='VOR', header=0)"
   ]
  },
  {
   "cell_type": "code",
   "execution_count": 36,
   "id": "f1ae6b56-80aa-4175-a647-0f05257f995a",
   "metadata": {},
   "outputs": [],
   "source": [
    "# rename coords columns to match\n",
    "#df_pdog_coords_s23 = df_pdog_coords_s23.rename(columns={'Transect.point': 'point',\n",
    "#                                   'UTM_13N_X': 'Mean.GPS_E.Biomass',\n",
    "#                                   'UTM_13N_Y': 'Mean.GPS_N.Biomass'})\n",
    "#s23_point_rename = {\n",
    "#    'NEX_LC_PD': 'NEX lakecreek-prairiedog', \n",
    "#    'NEX_LC_Fire': 'NEX lakecreek-fire', \n",
    "#    'NEX_LC_Control': 'NEX lakecreek-control', \n",
    "#    'GMDR_B1': 'GMDR B1', \n",
    "#    'GMDR_B2': 'GMDR B2',\n",
    "#    'GMDR_B3': 'GMDR B3', \n",
    "#    'NEX_Steckley_PD/E57.1': 'NEX steckley-prairiedog', \n",
    "#    'NEX_Steckley_Control': 'NEX steckley-control',\n",
    "#    'PVSage_Loamy': 'PVSage Loamy', \n",
    "#    'PVSage_Clayey': 'PVSage Clayey', \n",
    "#    'NEX_WF_PD': 'NEX westfork-prairiedog', \n",
    "#    'NEX_WF_Fire': 'NEX westfork-fire',\n",
    "#    'NEX_WF_Control': 'NEX westfork-control', \n",
    "#    'NEX_WC_PD': 'NEX wildcat-prairiedog',\n",
    "#    'NEX_WC_Fire': 'NEX wildcat-fire',\n",
    "#    'NEX_WC_Control': 'NEX wildcat-control'\n",
    "#}\n",
    "\n",
    "# rename coords points to match\n",
    "#df_pdog_coords_s23['point'] = df_pdog_coords_s23['point'].apply(lambda x: s23_point_rename[x] if x in s23_point_rename.keys() else x)\n"
   ]
  },
  {
   "cell_type": "code",
   "execution_count": 37,
   "id": "2065ce7c-730b-4908-b8d9-949a123970b5",
   "metadata": {},
   "outputs": [],
   "source": [
    "# drop point that is duplicated (see email from Katie)\n",
    "#df_pdog_vor = df_pdog_vor[~((df_pdog_vor['point'] == 'C4.5/C4_O') &\n",
    "#             (df_pdog_vor['notes'].str.contains('duplicate')))]"
   ]
  },
  {
   "cell_type": "code",
   "execution_count": 38,
   "id": "82e7ce1e-beac-42a2-95ed-062f1480be1f",
   "metadata": {},
   "outputs": [],
   "source": [
    "# define non-veg species\n",
    "non_veg_spp = ['ANT MOUND', 'BARE', 'DUNG', 'LICHEN', 'PRAIRIE DOG MOUND', 'LITTER', 'LITT']\n",
    "\n",
    "# create list of species to drop from VOR data\n",
    "vor_spp_drop_list = ['ARFI', 'ARTR', 'ARCA', 'ATCA', 'ATGA', 'CHVI', 'ERNA', 'EREF', 'KRLA', 'RHTR', 'SAVE',\n",
    "                     'arfi', 'artr', 'arca', 'atca', 'atga', 'chvi', 'erna', 'eref', 'krla', 'rhtr', 'save',\n",
    "                     'OPPO', 'oppo',\n",
    "                     'SD ARTR', 'SD ATCA', 'PASM/SD ARTR', 'AGCR/ARTR', 'OPPO/PASM']"
   ]
  },
  {
   "cell_type": "code",
   "execution_count": 39,
   "id": "f9ca6221-528d-4452-bfeb-d6b387f3dfb3",
   "metadata": {},
   "outputs": [],
   "source": [
    "# drop VOR readings in species list\n",
    "df_pdog_vor = df_pdog_vor[~df_pdog_vor['species'].isin(vor_spp_drop_list)].copy()\n",
    "# convert missing and 90+ readings to NaN\n",
    "df_pdog_vor.loc[df_pdog_vor['VOR'].isin([-1, '90+']), 'VOR'] = np.nan\n",
    "# drop any readings of non-veg species that are > 0\n",
    "df_pdog_vor = df_pdog_vor[~(df_pdog_vor['species'].isin(non_veg_spp) & (df_pdog_vor['VOR'] > 0))]"
   ]
  },
  {
   "cell_type": "code",
   "execution_count": 40,
   "id": "e9747217-a5ee-491f-88e6-8afce81ae12d",
   "metadata": {},
   "outputs": [],
   "source": [
    "#df_pdog_vor[df_pdog_vor['species'].isin(non_veg_spp)]"
   ]
  },
  {
   "cell_type": "code",
   "execution_count": 41,
   "id": "84402eba-0ede-4d36-a506-0c4e3438ceb6",
   "metadata": {},
   "outputs": [],
   "source": [
    "# convert to float\n",
    "df_pdog_vor['VOR'] = df_pdog_vor['VOR'].astype(float)"
   ]
  },
  {
   "cell_type": "code",
   "execution_count": 42,
   "id": "08c87574-0d9f-46be-a7da-32e58eaf9f74",
   "metadata": {},
   "outputs": [],
   "source": [
    "# reset the index\n",
    "df_pdog_vor = df_pdog_vor.reset_index(drop=True)"
   ]
  },
  {
   "cell_type": "code",
   "execution_count": 43,
   "id": "7c4af214-c63c-49fc-b6a6-8e5d18f73e36",
   "metadata": {},
   "outputs": [],
   "source": [
    "# separate low and high VOR readings to separate columns\n",
    "df_pdog_vor = df_pdog_vor.pivot(index=['year', 'date', 'point', 'distance (m)', 'VOR position'], \n",
    "                  columns=['reading'], values='VOR').reset_index()\n",
    "# rename VOR columns to match other datasets\n",
    "df_pdog_vor = df_pdog_vor.rename(columns={'low': 'Low_cm',\n",
    "                                          'high': 'High_cm'})\n",
    "# drop name associated with columns\n",
    "df_pdog_vor.columns.name = None\n",
    "\n",
    "# drop VOR where low > high as suspected data entry errors\n",
    "df_pdog_vor = df_pdog_vor[df_pdog_vor['Low_cm'] <= df_pdog_vor['High_cm']]"
   ]
  },
  {
   "cell_type": "code",
   "execution_count": 44,
   "id": "a7144d19-3078-4e7a-bb2a-ad8d2b6fb19c",
   "metadata": {},
   "outputs": [],
   "source": [
    "#s23_mask = (df_pdog_vor['date'] > datetime.datetime(2023,1,1)) & \\\n",
    "#            (df_pdog_vor['date'] < datetime.datetime(2023,5,1))"
   ]
  },
  {
   "cell_type": "code",
   "execution_count": 45,
   "id": "94f0c64c-7b7d-4491-af78-7107bb6d40a7",
   "metadata": {},
   "outputs": [],
   "source": [
    "#df_pdog_vor['point'][~df_pdog_vor['point'].isin(df_pdog_coords['point'].unique()) & \n",
    "#                     ~s23_mask].unique()"
   ]
  },
  {
   "cell_type": "code",
   "execution_count": 46,
   "id": "863d7947-ccef-43de-a381-d2a7fd23bc23",
   "metadata": {},
   "outputs": [
    {
     "data": {
      "text/plain": [
       "array([], dtype=object)"
      ]
     },
     "execution_count": 46,
     "metadata": {},
     "output_type": "execute_result"
    }
   ],
   "source": [
    "df_pdog_vor['point'][~df_pdog_vor['point'].isin(df_pdog_coords['point'].unique())].unique()"
   ]
  },
  {
   "cell_type": "code",
   "execution_count": 47,
   "id": "f1431a9f-0120-483a-b270-fdfa539bf70e",
   "metadata": {},
   "outputs": [],
   "source": [
    "#pt_rename_list_vor = ['C2_C/C2.1', 'C2_O/E37.2', 'C2_P/C2.7', 'C4_C/E36.3',\n",
    "#                      'C4_O/C4.5', 'C4_P/C4.8', 'E30_O/E30.6', 'E30_P/E30.3']"
   ]
  },
  {
   "cell_type": "code",
   "execution_count": 48,
   "id": "8d5bacd6-3d5f-48cd-8bb9-65f4180a60c4",
   "metadata": {},
   "outputs": [],
   "source": [
    "#df_pdog_vor.loc[~s23_mask, 'point'] = df_pdog_vor['point'].apply(lambda x: '/'.join([x.split('/')[1], x.split('/')[0]]) if x in pt_rename_list_vor else x)[~s23_mask]"
   ]
  },
  {
   "cell_type": "code",
   "execution_count": 49,
   "id": "96a8aaf9-e2ac-46b0-a354-e2775746f317",
   "metadata": {},
   "outputs": [],
   "source": [
    "#df_pdog_vor['point'][~df_pdog_vor['point'].isin(df_pdog_coords['point'].unique()) & \n",
    "#                     ~s23_mask].unique()"
   ]
  },
  {
   "cell_type": "code",
   "execution_count": 50,
   "id": "dc49c74e-64d3-4d48-bf7a-3a404d47b0a8",
   "metadata": {},
   "outputs": [],
   "source": [
    "#df_pdog_vor.loc[(df_pdog_vor['point'] == 'E30.3/E30_P') & ~s23_mask, 'point'] = 'E30_P'"
   ]
  },
  {
   "cell_type": "code",
   "execution_count": 51,
   "id": "1b6b5c4d-dae6-492b-9442-81b48f0dcdbf",
   "metadata": {},
   "outputs": [],
   "source": [
    "#df_pdog_vor['point'][~df_pdog_vor['point'].isin(df_pdog_coords['point'].unique()) & \n",
    "#                     ~s23_mask].unique()"
   ]
  },
  {
   "cell_type": "code",
   "execution_count": 52,
   "id": "7c89436f-423f-4f4d-bf41-b8836171edd2",
   "metadata": {},
   "outputs": [],
   "source": [
    "#df_pdog_vor['point'][~df_pdog_vor['point'].isin(df_pdog_coords_s23['point'].unique()) & \n",
    "#                     s23_mask].unique()"
   ]
  },
  {
   "cell_type": "code",
   "execution_count": 53,
   "id": "ed35b317-7c14-474e-b804-49d2478f93b2",
   "metadata": {},
   "outputs": [],
   "source": [
    "#df_pdog_vor.loc[(df_pdog_vor['point'] == 'E30_P') & s23_mask, 'point'] = 'E30_P/E30.3'"
   ]
  },
  {
   "cell_type": "code",
   "execution_count": 54,
   "id": "44c9c43a-30b2-4753-935a-a24070b4d0b4",
   "metadata": {},
   "outputs": [],
   "source": [
    "#df_pdog_vor['point'][~df_pdog_vor['point'].isin(df_pdog_coords_s23['point'].unique()) & \n",
    "#                     s23_mask].unique()"
   ]
  },
  {
   "cell_type": "code",
   "execution_count": 55,
   "id": "2d526108-b543-43c3-92f0-8fa7fccc6bee",
   "metadata": {},
   "outputs": [],
   "source": [
    "# manually change point name to match coordinates in Metadata sheet\n",
    "df_pdog_vor.loc[(df_pdog_vor['point'] == 'E30_P/E30.3') & (df_pdog_vor['date'] == pd.to_datetime('2023-7-27')), 'point'] = 'E30_P'"
   ]
  },
  {
   "cell_type": "code",
   "execution_count": 56,
   "id": "42626080-b9cb-435a-a425-3964ea252b34",
   "metadata": {},
   "outputs": [],
   "source": [
    "df_pdog_vor_agg = df_pdog_vor.drop(columns=['distance (m)', 'VOR position']).groupby(['year', 'date', 'point']).mean().reset_index()"
   ]
  },
  {
   "cell_type": "code",
   "execution_count": 57,
   "id": "67a289e0-508e-4bd4-81e9-0daa48b6c2a0",
   "metadata": {},
   "outputs": [],
   "source": [
    "#s23_mask_agg = (df_pdog_vor_agg['date'] > datetime.datetime(2023,1,1)) & \\\n",
    "#(df_pdog_vor_agg['date'] < datetime.datetime(2023,5,1))"
   ]
  },
  {
   "cell_type": "code",
   "execution_count": 58,
   "id": "9348c110-6a23-45d1-967a-91fc99a7b2f8",
   "metadata": {},
   "outputs": [],
   "source": [
    "#df_pdog_vor['point'][~df_pdog_vor['point'].isin(df_pdog_coords['point'].unique()) & \n",
    "#                     ~s23_mask].unique()"
   ]
  },
  {
   "cell_type": "code",
   "execution_count": 59,
   "id": "cc56e8a0-55fc-43ed-bc81-61adcef2909f",
   "metadata": {},
   "outputs": [],
   "source": [
    "#df_pdog_vor_agg['point'][~df_pdog_vor_agg['point'].isin(df_pdog_coords['point'].unique()) & \n",
    "#                     ~s23_mask_agg].unique()"
   ]
  },
  {
   "cell_type": "code",
   "execution_count": 60,
   "id": "369f47b2-39a3-4be2-a08d-5313ec5f2b07",
   "metadata": {},
   "outputs": [],
   "source": [
    "#df_pdog_vor_out = pd.concat(\n",
    "#    [pd.merge(df_pdog_vor_agg[~s23_mask_agg],\n",
    "#              df_pdog_coords[['point', 'Mean.GPS_E.Biomass', 'Mean.GPS_N.Biomass']],\n",
    "#              how='left',\n",
    "#              on=['point']),\n",
    "#     pd.merge(df_pdog_vor_agg[s23_mask_agg],\n",
    "#              df_pdog_coords_s23[['point', 'Mean.GPS_E.Biomass', 'Mean.GPS_N.Biomass']],\n",
    "#              how='left',\n",
    "#              on=['point'])\n",
    "#    ])\n",
    "     "
   ]
  },
  {
   "cell_type": "code",
   "execution_count": 61,
   "id": "efb8123c-8a19-459d-8db0-e3bc1504085e",
   "metadata": {},
   "outputs": [],
   "source": [
    "# combine biomass and environmental datasets\n",
    "df_pdog_vor_out = pd.merge_asof(df_pdog_vor_agg.sort_values('date'),\n",
    "                                df_pdog_coords[['point', 'date', 'Mean.GPS_E.Biomass', 'Mean.GPS_N.Biomass']].sort_values('date'),\n",
    "                                on='date',\n",
    "                                by='point',\n",
    "                                tolerance=datetime.timedelta(days=7),\n",
    "                                direction='nearest')"
   ]
  },
  {
   "cell_type": "code",
   "execution_count": 62,
   "id": "86e0518b-64a9-4728-b5ca-fea63c31e83f",
   "metadata": {},
   "outputs": [
    {
     "data": {
      "text/plain": [
       "Mean.GPS_E.Biomass    True\n",
       "Mean.GPS_N.Biomass    True\n",
       "dtype: bool"
      ]
     },
     "execution_count": 62,
     "metadata": {},
     "output_type": "execute_result"
    }
   ],
   "source": [
    "df_pdog_vor_out[['Mean.GPS_E.Biomass', 'Mean.GPS_N.Biomass']].isnull().any()"
   ]
  },
  {
   "cell_type": "code",
   "execution_count": 63,
   "id": "11dd9af4-81e5-45b3-b897-2eaddd436fa7",
   "metadata": {},
   "outputs": [
    {
     "data": {
      "text/html": [
       "<div>\n",
       "<style scoped>\n",
       "    .dataframe tbody tr th:only-of-type {\n",
       "        vertical-align: middle;\n",
       "    }\n",
       "\n",
       "    .dataframe tbody tr th {\n",
       "        vertical-align: top;\n",
       "    }\n",
       "\n",
       "    .dataframe thead th {\n",
       "        text-align: right;\n",
       "    }\n",
       "</style>\n",
       "<table border=\"1\" class=\"dataframe\">\n",
       "  <thead>\n",
       "    <tr style=\"text-align: right;\">\n",
       "      <th></th>\n",
       "      <th>year</th>\n",
       "      <th>date</th>\n",
       "      <th>point</th>\n",
       "      <th>High_cm</th>\n",
       "      <th>Low_cm</th>\n",
       "      <th>Mean.GPS_E.Biomass</th>\n",
       "      <th>Mean.GPS_N.Biomass</th>\n",
       "    </tr>\n",
       "  </thead>\n",
       "  <tbody>\n",
       "    <tr>\n",
       "      <th>219</th>\n",
       "      <td>2024</td>\n",
       "      <td>2024-07-16</td>\n",
       "      <td>E8.2</td>\n",
       "      <td>22.421053</td>\n",
       "      <td>5.631579</td>\n",
       "      <td>NaN</td>\n",
       "      <td>NaN</td>\n",
       "    </tr>\n",
       "    <tr>\n",
       "      <th>205</th>\n",
       "      <td>2024</td>\n",
       "      <td>2024-07-16</td>\n",
       "      <td>ROTH143_C</td>\n",
       "      <td>6.529412</td>\n",
       "      <td>1.058824</td>\n",
       "      <td>NaN</td>\n",
       "      <td>NaN</td>\n",
       "    </tr>\n",
       "  </tbody>\n",
       "</table>\n",
       "</div>"
      ],
      "text/plain": [
       "     year       date      point    High_cm    Low_cm  Mean.GPS_E.Biomass  \\\n",
       "219  2024 2024-07-16       E8.2  22.421053  5.631579                 NaN   \n",
       "205  2024 2024-07-16  ROTH143_C   6.529412  1.058824                 NaN   \n",
       "\n",
       "     Mean.GPS_N.Biomass  \n",
       "219                 NaN  \n",
       "205                 NaN  "
      ]
     },
     "execution_count": 63,
     "metadata": {},
     "output_type": "execute_result"
    }
   ],
   "source": [
    "df_pdog_vor_out[df_pdog_vor_out[['Mean.GPS_E.Biomass', 'Mean.GPS_N.Biomass']].isnull().any(axis=1)].sort_values('point')"
   ]
  },
  {
   "cell_type": "code",
   "execution_count": 64,
   "id": "b0fe3853-c4f9-485c-8363-8141a37b740e",
   "metadata": {},
   "outputs": [],
   "source": [
    "# manually checked the above entries in Metadata sheet and either coords are missing or entry is missing altogether\n",
    "df_pdog_vor_out = df_pdog_vor_out.dropna(subset=['Mean.GPS_E.Biomass', 'Mean.GPS_N.Biomass'], how='any')"
   ]
  },
  {
   "cell_type": "code",
   "execution_count": 65,
   "id": "7bb50c54-1aed-4c15-a9d0-a2b5e2e0e4e7",
   "metadata": {},
   "outputs": [],
   "source": [
    "df_pdog_vor_out.to_csv(os.path.join(baseDIR, outDIR_vor, 'TB_pdog_vor.csv'), index=False)"
   ]
  },
  {
   "cell_type": "code",
   "execution_count": 66,
   "id": "f0ecf2f0-8c8b-4575-8e9e-67a36e1011ae",
   "metadata": {},
   "outputs": [],
   "source": [
    "df_pdog_vor_bm_out = pd.merge_asof(df_pdog_vor_agg.sort_values('date'),\n",
    "                                   df_pdog_fnl.sort_values('date'), \n",
    "                                   on='date',\n",
    "                                   by=['point'],\n",
    "                                   direction= 'nearest',\n",
    "                                   tolerance= datetime.timedelta(days= 22),\n",
    "                                   suffixes=['_vor', '_bm'])"
   ]
  },
  {
   "cell_type": "code",
   "execution_count": 67,
   "id": "c27eaabb-d885-4600-ade7-a9cddcbb38da",
   "metadata": {},
   "outputs": [],
   "source": [
    "df_pdog_vor_bm_out = df_pdog_vor_bm_out[~df_pdog_vor_bm_out['Total_Weight_(g/m^2)'].isnull()]"
   ]
  },
  {
   "cell_type": "code",
   "execution_count": 68,
   "id": "7fc73375-f1f5-4d93-accd-0f5e56fa06f4",
   "metadata": {},
   "outputs": [],
   "source": [
    "# rename columns to match other VOR training data\n",
    "df_pdog_vor_bm_out = df_pdog_vor_bm_out.rename(columns={'date': 'Date',\n",
    "                                                        'Total_Weight_(g/m^2)': 'Total Weight (g/m^2)',\n",
    "                                                        'year_vor': 'Year'})\n",
    "# keep only necessary columns\n",
    "df_pdog_vor_bm_out = df_pdog_vor_bm_out[['Date', 'point', 'High_cm', 'Low_cm', 'Total Weight (g/m^2)', 'Year',\n",
    "                                         '%shrub Cover', 'Mean.GPS_E.Biomass', 'Mean.GPS_N.Biomass']]"
   ]
  },
  {
   "cell_type": "code",
   "execution_count": 69,
   "id": "0fed9baf-c987-4742-9ec8-70ad2f71058e",
   "metadata": {},
   "outputs": [
    {
     "data": {
      "text/plain": [
       "Index(['Date', 'point', 'High_cm', 'Low_cm', 'Total Weight (g/m^2)', 'Year',\n",
       "       '%shrub Cover', 'Mean.GPS_E.Biomass', 'Mean.GPS_N.Biomass'],\n",
       "      dtype='object')"
      ]
     },
     "execution_count": 69,
     "metadata": {},
     "output_type": "execute_result"
    }
   ],
   "source": [
    "df_pdog_vor_bm_out.columns"
   ]
  },
  {
   "cell_type": "code",
   "execution_count": 70,
   "id": "ce6f97ef-e541-4abc-8b51-3309efa0260a",
   "metadata": {},
   "outputs": [
    {
     "data": {
      "text/html": [
       "<div>\n",
       "<style scoped>\n",
       "    .dataframe tbody tr th:only-of-type {\n",
       "        vertical-align: middle;\n",
       "    }\n",
       "\n",
       "    .dataframe tbody tr th {\n",
       "        vertical-align: top;\n",
       "    }\n",
       "\n",
       "    .dataframe thead th {\n",
       "        text-align: right;\n",
       "    }\n",
       "</style>\n",
       "<table border=\"1\" class=\"dataframe\">\n",
       "  <thead>\n",
       "    <tr style=\"text-align: right;\">\n",
       "      <th></th>\n",
       "      <th>Date</th>\n",
       "      <th>point</th>\n",
       "      <th>High_cm</th>\n",
       "      <th>Low_cm</th>\n",
       "      <th>Total Weight (g/m^2)</th>\n",
       "      <th>Year</th>\n",
       "      <th>%shrub Cover</th>\n",
       "      <th>Mean.GPS_E.Biomass</th>\n",
       "      <th>Mean.GPS_N.Biomass</th>\n",
       "    </tr>\n",
       "  </thead>\n",
       "  <tbody>\n",
       "    <tr>\n",
       "      <th>123</th>\n",
       "      <td>2023-07-19</td>\n",
       "      <td>ROTH143_P</td>\n",
       "      <td>13.600000</td>\n",
       "      <td>2.250000</td>\n",
       "      <td>142.821</td>\n",
       "      <td>2023</td>\n",
       "      <td>0.000</td>\n",
       "      <td>499624.92</td>\n",
       "      <td>4804572.27</td>\n",
       "    </tr>\n",
       "    <tr>\n",
       "      <th>124</th>\n",
       "      <td>2023-07-19</td>\n",
       "      <td>ROTH143_O</td>\n",
       "      <td>15.400000</td>\n",
       "      <td>2.850000</td>\n",
       "      <td>89.711</td>\n",
       "      <td>2023</td>\n",
       "      <td>0.000</td>\n",
       "      <td>499136.03</td>\n",
       "      <td>4804821.94</td>\n",
       "    </tr>\n",
       "    <tr>\n",
       "      <th>125</th>\n",
       "      <td>2023-07-19</td>\n",
       "      <td>ROTH114_P</td>\n",
       "      <td>21.300000</td>\n",
       "      <td>5.350000</td>\n",
       "      <td>139.593</td>\n",
       "      <td>2023</td>\n",
       "      <td>0.000</td>\n",
       "      <td>499584.69</td>\n",
       "      <td>4804314.13</td>\n",
       "    </tr>\n",
       "    <tr>\n",
       "      <th>126</th>\n",
       "      <td>2023-07-19</td>\n",
       "      <td>ROTH114_O</td>\n",
       "      <td>46.850000</td>\n",
       "      <td>10.200000</td>\n",
       "      <td>191.812</td>\n",
       "      <td>2023</td>\n",
       "      <td>0.000</td>\n",
       "      <td>499848.90</td>\n",
       "      <td>4805724.26</td>\n",
       "    </tr>\n",
       "    <tr>\n",
       "      <th>127</th>\n",
       "      <td>2023-07-19</td>\n",
       "      <td>ROTH101_P</td>\n",
       "      <td>16.950000</td>\n",
       "      <td>5.350000</td>\n",
       "      <td>170.618</td>\n",
       "      <td>2023</td>\n",
       "      <td>0.000</td>\n",
       "      <td>498246.37</td>\n",
       "      <td>4806479.29</td>\n",
       "    </tr>\n",
       "    <tr>\n",
       "      <th>128</th>\n",
       "      <td>2023-07-19</td>\n",
       "      <td>ROTH101_C</td>\n",
       "      <td>32.200000</td>\n",
       "      <td>14.900000</td>\n",
       "      <td>214.077</td>\n",
       "      <td>2023</td>\n",
       "      <td>0.000</td>\n",
       "      <td>499991.45</td>\n",
       "      <td>4807392.04</td>\n",
       "    </tr>\n",
       "    <tr>\n",
       "      <th>138</th>\n",
       "      <td>2023-07-20</td>\n",
       "      <td>ROTH114_C</td>\n",
       "      <td>15.100000</td>\n",
       "      <td>4.700000</td>\n",
       "      <td>143.484</td>\n",
       "      <td>2023</td>\n",
       "      <td>0.000</td>\n",
       "      <td>498712.10</td>\n",
       "      <td>4803991.65</td>\n",
       "    </tr>\n",
       "    <tr>\n",
       "      <th>155</th>\n",
       "      <td>2023-07-26</td>\n",
       "      <td>C2_O/E37.2</td>\n",
       "      <td>15.000000</td>\n",
       "      <td>2.450000</td>\n",
       "      <td>84.727</td>\n",
       "      <td>2023</td>\n",
       "      <td>0.500</td>\n",
       "      <td>489526.09</td>\n",
       "      <td>4813611.51</td>\n",
       "    </tr>\n",
       "    <tr>\n",
       "      <th>156</th>\n",
       "      <td>2023-07-26</td>\n",
       "      <td>C2_P/C2.7</td>\n",
       "      <td>20.400000</td>\n",
       "      <td>6.100000</td>\n",
       "      <td>129.780</td>\n",
       "      <td>2023</td>\n",
       "      <td>0.000</td>\n",
       "      <td>490408.37</td>\n",
       "      <td>4812385.16</td>\n",
       "    </tr>\n",
       "    <tr>\n",
       "      <th>159</th>\n",
       "      <td>2023-07-26</td>\n",
       "      <td>C4_O/C4.5</td>\n",
       "      <td>38.789474</td>\n",
       "      <td>11.894737</td>\n",
       "      <td>378.490</td>\n",
       "      <td>2023</td>\n",
       "      <td>0.000</td>\n",
       "      <td>494369.99</td>\n",
       "      <td>4811539.46</td>\n",
       "    </tr>\n",
       "    <tr>\n",
       "      <th>165</th>\n",
       "      <td>2023-07-27</td>\n",
       "      <td>C2_C/C2.1</td>\n",
       "      <td>14.100000</td>\n",
       "      <td>4.450000</td>\n",
       "      <td>136.876</td>\n",
       "      <td>2023</td>\n",
       "      <td>0.125</td>\n",
       "      <td>488907.05</td>\n",
       "      <td>4812381.56</td>\n",
       "    </tr>\n",
       "    <tr>\n",
       "      <th>166</th>\n",
       "      <td>2023-07-27</td>\n",
       "      <td>E30_O/E30.6</td>\n",
       "      <td>29.894737</td>\n",
       "      <td>3.105263</td>\n",
       "      <td>60.919</td>\n",
       "      <td>2023</td>\n",
       "      <td>1.000</td>\n",
       "      <td>493406.20</td>\n",
       "      <td>4815853.74</td>\n",
       "    </tr>\n",
       "    <tr>\n",
       "      <th>167</th>\n",
       "      <td>2023-07-27</td>\n",
       "      <td>E30_C</td>\n",
       "      <td>30.450000</td>\n",
       "      <td>10.100000</td>\n",
       "      <td>192.316</td>\n",
       "      <td>2023</td>\n",
       "      <td>0.250</td>\n",
       "      <td>492849.64</td>\n",
       "      <td>4815598.56</td>\n",
       "    </tr>\n",
       "    <tr>\n",
       "      <th>168</th>\n",
       "      <td>2023-07-27</td>\n",
       "      <td>E30_P</td>\n",
       "      <td>11.900000</td>\n",
       "      <td>2.650000</td>\n",
       "      <td>65.130</td>\n",
       "      <td>2023</td>\n",
       "      <td>0.000</td>\n",
       "      <td>492695.41</td>\n",
       "      <td>4815866.00</td>\n",
       "    </tr>\n",
       "    <tr>\n",
       "      <th>176</th>\n",
       "      <td>2023-08-01</td>\n",
       "      <td>ROTH101_O</td>\n",
       "      <td>31.947368</td>\n",
       "      <td>9.684211</td>\n",
       "      <td>175.432</td>\n",
       "      <td>2023</td>\n",
       "      <td>0.000</td>\n",
       "      <td>499567.70</td>\n",
       "      <td>4806948.90</td>\n",
       "    </tr>\n",
       "    <tr>\n",
       "      <th>178</th>\n",
       "      <td>2023-08-01</td>\n",
       "      <td>ROTH143_C</td>\n",
       "      <td>13.882353</td>\n",
       "      <td>3.352941</td>\n",
       "      <td>101.104</td>\n",
       "      <td>2023</td>\n",
       "      <td>0.000</td>\n",
       "      <td>501592.70</td>\n",
       "      <td>4805417.73</td>\n",
       "    </tr>\n",
       "  </tbody>\n",
       "</table>\n",
       "</div>"
      ],
      "text/plain": [
       "          Date        point    High_cm     Low_cm  Total Weight (g/m^2)  Year  \\\n",
       "123 2023-07-19    ROTH143_P  13.600000   2.250000               142.821  2023   \n",
       "124 2023-07-19    ROTH143_O  15.400000   2.850000                89.711  2023   \n",
       "125 2023-07-19    ROTH114_P  21.300000   5.350000               139.593  2023   \n",
       "126 2023-07-19    ROTH114_O  46.850000  10.200000               191.812  2023   \n",
       "127 2023-07-19    ROTH101_P  16.950000   5.350000               170.618  2023   \n",
       "128 2023-07-19    ROTH101_C  32.200000  14.900000               214.077  2023   \n",
       "138 2023-07-20    ROTH114_C  15.100000   4.700000               143.484  2023   \n",
       "155 2023-07-26   C2_O/E37.2  15.000000   2.450000                84.727  2023   \n",
       "156 2023-07-26    C2_P/C2.7  20.400000   6.100000               129.780  2023   \n",
       "159 2023-07-26    C4_O/C4.5  38.789474  11.894737               378.490  2023   \n",
       "165 2023-07-27    C2_C/C2.1  14.100000   4.450000               136.876  2023   \n",
       "166 2023-07-27  E30_O/E30.6  29.894737   3.105263                60.919  2023   \n",
       "167 2023-07-27        E30_C  30.450000  10.100000               192.316  2023   \n",
       "168 2023-07-27        E30_P  11.900000   2.650000                65.130  2023   \n",
       "176 2023-08-01    ROTH101_O  31.947368   9.684211               175.432  2023   \n",
       "178 2023-08-01    ROTH143_C  13.882353   3.352941               101.104  2023   \n",
       "\n",
       "     %shrub Cover  Mean.GPS_E.Biomass  Mean.GPS_N.Biomass  \n",
       "123         0.000           499624.92          4804572.27  \n",
       "124         0.000           499136.03          4804821.94  \n",
       "125         0.000           499584.69          4804314.13  \n",
       "126         0.000           499848.90          4805724.26  \n",
       "127         0.000           498246.37          4806479.29  \n",
       "128         0.000           499991.45          4807392.04  \n",
       "138         0.000           498712.10          4803991.65  \n",
       "155         0.500           489526.09          4813611.51  \n",
       "156         0.000           490408.37          4812385.16  \n",
       "159         0.000           494369.99          4811539.46  \n",
       "165         0.125           488907.05          4812381.56  \n",
       "166         1.000           493406.20          4815853.74  \n",
       "167         0.250           492849.64          4815598.56  \n",
       "168         0.000           492695.41          4815866.00  \n",
       "176         0.000           499567.70          4806948.90  \n",
       "178         0.000           501592.70          4805417.73  "
      ]
     },
     "execution_count": 70,
     "metadata": {},
     "output_type": "execute_result"
    }
   ],
   "source": [
    "df_pdog_vor_bm_out"
   ]
  },
  {
   "cell_type": "code",
   "execution_count": 71,
   "id": "ced4911f-989d-41bc-9a87-484ad5332e1d",
   "metadata": {},
   "outputs": [],
   "source": [
    "df_pdog_vor_bm_out.to_csv(os.path.join(baseDIR, outDIR_vor_train, 'TB_pdog_vor_train.csv'), index=False)"
   ]
  },
  {
   "cell_type": "markdown",
   "id": "a82151bf-6943-44bb-896a-beee9c889f13",
   "metadata": {},
   "source": [
    "# Questions\n",
    "* ID's missing from GPS (see above) - can get A. and Roth from shapefile(s) on T:\n",
    "    * (A are in ThunderBasin/PdogVegetation; Roth are in BMZ file in ThunderBasin/BirdHabitatsProject/BMZ)"
   ]
  }
 ],
 "metadata": {
  "kernelspec": {
   "display_name": "Python 3 (ipykernel)",
   "language": "python",
   "name": "python3"
  },
  "language_info": {
   "codemirror_mode": {
    "name": "ipython",
    "version": 3
   },
   "file_extension": ".py",
   "mimetype": "text/x-python",
   "name": "python",
   "nbconvert_exporter": "python",
   "pygments_lexer": "ipython3",
   "version": "3.9.12"
  }
 },
 "nbformat": 4,
 "nbformat_minor": 5
}
