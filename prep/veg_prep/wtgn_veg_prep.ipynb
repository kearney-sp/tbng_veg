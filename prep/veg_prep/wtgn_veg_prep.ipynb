{
 "cells": [
  {
   "cell_type": "code",
   "execution_count": 1,
   "id": "7a73a3b9-cc2c-4030-994e-787012baefbc",
   "metadata": {},
   "outputs": [],
   "source": [
    "import pandas as pd\n",
    "import os\n",
    "import re\n",
    "import numpy as np\n",
    "import datetime\n",
    "import seaborn as sns\n",
    "import matplotlib.pyplot as plt\n",
    "import geopandas as gpd"
   ]
  },
  {
   "cell_type": "code",
   "execution_count": 2,
   "id": "986ed675-8dde-4c30-bc05-48592c9e79d6",
   "metadata": {},
   "outputs": [
    {
     "data": {
      "text/plain": [
       "'/mnt/c/Users/seanp/git_repos/tbng_veg/prep/veg_prep'"
      ]
     },
     "execution_count": 2,
     "metadata": {},
     "output_type": "execute_result"
    }
   ],
   "source": [
    "os.getcwd()"
   ]
  },
  {
   "cell_type": "markdown",
   "id": "ad41938d-edbf-4bbc-ad71-17f016a33167",
   "metadata": {},
   "source": [
    "# Create initial datasets"
   ]
  },
  {
   "cell_type": "markdown",
   "id": "20cbec71-bc3a-4038-80b9-a1fb75a4bff5",
   "metadata": {
    "tags": []
   },
   "source": [
    "### Setup input/output"
   ]
  },
  {
   "cell_type": "code",
   "execution_count": 3,
   "id": "684efaf3-056e-4da6-9eb1-83f8f7d73176",
   "metadata": {},
   "outputs": [],
   "source": [
    "# set base directory\n",
    "#baseDIR = '/mnt/d'\n",
    "#baseDIR = 'T:/'\n",
    "baseDIR = 'data'\n",
    "\n",
    "# set input directory\n",
    "#inDIR = 'TBNG/data/'\n",
    "#inDIR = \"2-Projects/Thunder Basin/Weight Gains Project/DATA/Vegetation DATA/\"\n",
    "inDIR = 'orig'\n",
    "\n",
    "# set input file\n",
    "vorXLSX = 'weight gains VORmetadata_29April2025_spk.xlsx'\n",
    "bmXLSX = 'wt gains biomass and FQ_29April2025_spk.xlsx'\n",
    "\n",
    "# set working directory to project directory\n",
    "os.chdir('../..')\n",
    "\n",
    "# set directory of shapefile with location data\n",
    "inSHP = 'data/shps/TB_wGain_sampling_2021_fixed_20220607.shp'\n",
    "\n",
    "# set output directories\n",
    "outDIR_clip = 'data/clip'\n",
    "outDIR_vor = 'data/vor'\n",
    "outDIR_vor_train = 'data/vor_train'\n",
    "if not os.path.exists(os.path.join(os.getcwd(), outDIR_clip)):\n",
    "    os.mkdir(os.path.join(os.getcwd(), outDIR_clip))\n",
    "if not os.path.exists(os.path.join(os.getcwd(), outDIR_vor)):\n",
    "    os.mkdir(os.path.join(os.getcwd(), outDIR_vor))\n",
    "if not os.path.exists(os.path.join(os.getcwd(), outDIR_vor_train)):\n",
    "    os.mkdir(os.path.join(os.getcwd(), outDIR_vor_train))"
   ]
  },
  {
   "cell_type": "markdown",
   "id": "7847607e-6634-425e-8392-1ce9c88d45e5",
   "metadata": {},
   "source": [
    "### Load data"
   ]
  },
  {
   "cell_type": "code",
   "execution_count": 4,
   "id": "bf72a2ae-59cc-4c2a-879e-2b39b2caefef",
   "metadata": {},
   "outputs": [
    {
     "data": {
      "text/plain": [
       "['Sheet1']"
      ]
     },
     "metadata": {},
     "output_type": "display_data"
    }
   ],
   "source": [
    "# create an Excel file object for investigating contents\n",
    "vor_xlsx = pd.ExcelFile(os.path.join(baseDIR, inDIR, vorXLSX))\n",
    "# display the sheet names in the .xlsx file\n",
    "display(vor_xlsx.sheet_names)"
   ]
  },
  {
   "cell_type": "code",
   "execution_count": 5,
   "id": "d693ccb1-cd08-46a2-8be8-992696601ad9",
   "metadata": {},
   "outputs": [
    {
     "data": {
      "text/plain": [
       "['Raw Data', 'Summary by Pasture']"
      ]
     },
     "metadata": {},
     "output_type": "display_data"
    }
   ],
   "source": [
    "# create an Excel file object for investigating contents\n",
    "bm_xlsx = pd.ExcelFile(os.path.join(baseDIR, inDIR, bmXLSX))\n",
    "# display the sheet names in the .xlsx file\n",
    "display(bm_xlsx.sheet_names)"
   ]
  },
  {
   "cell_type": "code",
   "execution_count": 6,
   "id": "8cb5173d-323a-4a8b-bb30-3091e07706ab",
   "metadata": {},
   "outputs": [],
   "source": [
    "# Create the desired dataframes by parsing the individual sheets\n",
    "df_wtgn_bm = bm_xlsx.parse(sheet_name='Raw Data', header=0)\n",
    "df_wtgn_vor = vor_xlsx.parse(sheet_name='Sheet1', header=0)"
   ]
  },
  {
   "cell_type": "code",
   "execution_count": 7,
   "id": "82aa8182-9061-497b-8774-e82bf9fef6dd",
   "metadata": {},
   "outputs": [],
   "source": [
    "gdf_wtgn = gpd.read_file(inSHP)"
   ]
  },
  {
   "cell_type": "markdown",
   "id": "0633a129-e9bc-45a5-9181-18f5e98f8288",
   "metadata": {},
   "source": [
    "# Biomass dataset"
   ]
  },
  {
   "cell_type": "markdown",
   "id": "910225a1-bf3f-485b-bfcd-6855f0f261e3",
   "metadata": {},
   "source": [
    "#### Clean up dates"
   ]
  },
  {
   "cell_type": "code",
   "execution_count": 8,
   "id": "0b9e7df9-9551-4f79-a25b-8a30220948ca",
   "metadata": {},
   "outputs": [],
   "source": [
    "df_wtgn_bm['Date'] = pd.to_datetime(df_wtgn_bm['Date'])"
   ]
  },
  {
   "cell_type": "markdown",
   "id": "7e1c8bdc-9b7a-4f75-b174-6d7356de0297",
   "metadata": {},
   "source": [
    "### Prep biomass values for joining"
   ]
  },
  {
   "cell_type": "code",
   "execution_count": 9,
   "id": "bf4b9316-8d29-4830-a5e5-f82895f3e44b",
   "metadata": {},
   "outputs": [],
   "source": [
    "# drop data with missing plot info\n",
    "df_wtgn_bm = df_wtgn_bm[df_wtgn_bm['Plot'] != 'na']\n",
    "# convert plot values to integer to match VOR\n",
    "df_wtgn_bm.loc[:,'Plot'] = df_wtgn_bm['Plot'].astype(int) "
   ]
  },
  {
   "cell_type": "code",
   "execution_count": 10,
   "id": "8d6f0b20-d30f-492d-8f4d-209cd611a8d5",
   "metadata": {},
   "outputs": [],
   "source": [
    "# drop any missing data\n",
    "df_wtgn_bm = df_wtgn_bm[df_wtgn_bm['Total g/m^2'].notnull()]\n",
    "df_wtgn_bm = df_wtgn_bm[df_wtgn_bm['Total g/m^2'] != -1]\n",
    "# rename pasture column to match old naming\n",
    "df_wtgn_bm = df_wtgn_bm.rename(columns={'pasture': 'Pasture'})\n",
    "# rename weight column to match other datasets\n",
    "df_wtgn_bm = df_wtgn_bm.rename(columns={'Total g/m^2': 'Total Weight (g/m^2)'})\n",
    "# rename pastures where necessary\n",
    "bm_past_dict = {\n",
    "    'Mid Weiss G': 'Mid Weiss Pasture G'\n",
    "}\n",
    "df_wtgn_bm.loc[:, 'Pasture'] = df_wtgn_bm['Pasture'].apply(lambda x: bm_past_dict[x] if x in bm_past_dict else x)"
   ]
  },
  {
   "cell_type": "markdown",
   "id": "afab8773-f63e-4d9b-b06a-1190592ea9bb",
   "metadata": {},
   "source": [
    "### Visualize data to check that it makes sense"
   ]
  },
  {
   "cell_type": "code",
   "execution_count": 11,
   "id": "54524b9e-6f40-4527-baba-366275d23246",
   "metadata": {},
   "outputs": [
    {
     "data": {
      "text/plain": [
       "<seaborn.axisgrid.FacetGrid at 0x7fe6f2801ee0>"
      ]
     },
     "execution_count": 11,
     "metadata": {},
     "output_type": "execute_result"
    },
    {
     "data": {
      "image/png": "[encoded data removed]",
      "text/plain": [
       "<Figure size 585.5x500 with 1 Axes>"
      ]
     },
     "metadata": {},
     "output_type": "display_data"
    }
   ],
   "source": [
    "# plot pin-frame calibration data\n",
    "sns.relplot(x='Date', y='Total Weight (g/m^2)', hue='Year',\n",
    "            data=df_wtgn_bm, kind='line', marker=\"o\")"
   ]
  },
  {
   "cell_type": "markdown",
   "id": "5a350e68-a79f-474e-bf91-0c99e54e05de",
   "metadata": {},
   "source": [
    "### Add in GPS locations from shapefile"
   ]
  },
  {
   "cell_type": "code",
   "execution_count": 12,
   "id": "3beeb718-5021-468b-8d50-f7f2b5b99bd5",
   "metadata": {},
   "outputs": [],
   "source": [
    "# update prairie dog colony column\n",
    "df_wtgn_bm = df_wtgn_bm.rename(columns={'PD Colony?': 'PD'})\n",
    "#df_wtgn_bm.loc[:, 'PD'] = df_wtgn_bm['Pasture'].transform(lambda x: 'Yes' if '-PD' in x else 'No')\n",
    "df_wtgn_bm.loc[:, 'PD'] = df_wtgn_bm['PD'].transform(lambda x: 'Yes' if x=='y' else 'No' if x=='n' else '')"
   ]
  },
  {
   "cell_type": "code",
   "execution_count": 13,
   "id": "16e1c8a4-a4c1-4764-adf8-39ec44564df9",
   "metadata": {},
   "outputs": [],
   "source": [
    "#df_wtgn_bm['PD'].unique()"
   ]
  },
  {
   "cell_type": "code",
   "execution_count": 14,
   "id": "1741d5c0-8f5a-405e-ae10-ddeb1e7e49a7",
   "metadata": {},
   "outputs": [],
   "source": [
    "#gdf_wtgn[gdf_wtgn['Plot_ID'].str.contains('Top')]"
   ]
  },
  {
   "cell_type": "code",
   "execution_count": 15,
   "id": "b173bb9b-2f29-4d8e-b4a9-9fc7acc14393",
   "metadata": {},
   "outputs": [
    {
     "data": {
      "text/plain": [
       "array(['East_Weiss', 'West_Weiss', 'Middle_Lake_Creek', 'Center_Owens',\n",
       "       'North_Owens', 'Top', 'Frey_SE', 'Frey_SW', 'Frey_NW', 'Frey_NE',\n",
       "       'Frey_(Pino_Beans)', 'West_Pasture', 'South_Pasture',\n",
       "       'Half_Section', 'Section_4', 'Burden_Place', 'Pellatz_South',\n",
       "       'Section_8', 'Cameron_Place', \"Bill's_Home\", \"Bill's_South\",\n",
       "       'Strips', 'Blue_Tank', 'East', 'PastureNE_Weiss1',\n",
       "       'PastureNE_Weiss2', 'PastureNE_Weiss3', 'PastureNE_Weiss4',\n",
       "       'PastureNE_Weiss5', 'PastureNE_Weiss6', 'PastureNE_Weiss7',\n",
       "       'Upper_Rattlesnake', 'Miller_Place', 'West_Rattlesnake', 'Sawmill',\n",
       "       'East_Rattlesnake', 'S_School_Section', 'NoName_Nacthman_634',\n",
       "       'NoName_Nachtman_360', 'N_School_Section', 'Hogsback', 'Home',\n",
       "       'Rattlesnake', 'Meadow', 'East_Dorr'], dtype=object)"
      ]
     },
     "execution_count": 15,
     "metadata": {},
     "output_type": "execute_result"
    }
   ],
   "source": [
    "gdf_wtgn['Plot_ID'].apply(lambda x: '_'.join([i for i in x.split('_') if 'Pt' not in i])).unique()"
   ]
  },
  {
   "cell_type": "code",
   "execution_count": 16,
   "id": "065ffdcc-30b8-42db-9c82-fd96e82f6cc7",
   "metadata": {},
   "outputs": [],
   "source": [
    "past_name_dict = {\n",
    "    'mid weiss G': 'East Weiss',\n",
    "    'north owens': 'North Owens', \n",
    "    'mid weiss K': 'East Weiss',\n",
    "    'east ne weiss': 'East Weiss', \n",
    "    'ne cameron place': 'Cameron Place',\n",
    "    'north school section H': 'East Weiss',\n",
    "    'east weiss K': 'East Weiss', \n",
    "    'section 4': 'Section 4',\n",
    "    'west weiss E': 'West Weiss',\n",
    "    'west weiss C': 'West Weiss',\n",
    "    'center owens': 'Center Owens',\n",
    "    'section 8': 'Section 8',\n",
    "    'top': 'Top',\n",
    "    'hogsback': 'Hogsback',\n",
    "    'north school section': 'N School Section',\n",
    "    'rattlesnake': 'Rattlesnake',\n",
    "    'section 9': 'Section 4',\n",
    "    'upper rattlesnake': 'Upper Rattlesnake'\n",
    "}\n",
    "\n",
    "# create unique id's of pasture+plot+PD that match for shape and clip data.\n",
    "df_wtgn_bm.loc[:, 'Pasture_shp'] = df_wtgn_bm['Pasture'].transform(\n",
    "    lambda x: past_name_dict[x] if x in past_name_dict.keys() else x)\n",
    "df_wtgn_bm.loc[:, 'Pasture_shp'] = df_wtgn_bm['Pasture_shp'].transform(\n",
    "    lambda x: re.sub(' ', '_', x))\n",
    "df_wtgn_bm.loc[:, 'Join_ID'] = df_wtgn_bm.apply(lambda x: '_'.join([x['Pasture_shp'], \n",
    "                                    'Pt' + str(x['Plot']),\n",
    "                                    x['PD']]),\n",
    "                 axis=1)#.Pasture.unique()"
   ]
  },
  {
   "cell_type": "code",
   "execution_count": 17,
   "id": "84c2e676-4c6d-43c5-8dca-1ab6bcef1341",
   "metadata": {},
   "outputs": [],
   "source": [
    "gdf_wtgn.loc[gdf_wtgn['pdog'].isnull(), 'pdog'] = 'No'"
   ]
  },
  {
   "cell_type": "code",
   "execution_count": 18,
   "id": "c203653e-1158-4e35-b24c-88ef20c51cdc",
   "metadata": {},
   "outputs": [],
   "source": [
    "gdf_wtgn.loc[:, 'Join_ID'] = gdf_wtgn.apply(lambda x: '_'.join([x['Plot_ID'], x['pdog']]), axis=1)"
   ]
  },
  {
   "cell_type": "code",
   "execution_count": 19,
   "id": "67927d81-3438-49c7-9058-cbffe47704e0",
   "metadata": {},
   "outputs": [],
   "source": [
    "gdf_wtgn['Mean.GPS_E.Biomass'] = gdf_wtgn.geometry.centroid.x\n",
    "gdf_wtgn['Mean.GPS_N.Biomass'] = gdf_wtgn.geometry.centroid.y"
   ]
  },
  {
   "cell_type": "code",
   "execution_count": 20,
   "id": "d6dce4f3-2df4-4c1c-9022-7f47f817abd6",
   "metadata": {},
   "outputs": [
    {
     "data": {
      "text/plain": [
       "array(['ne cameron place', 'center owens', 'east ne weiss', 'mid weiss G',\n",
       "       'mid weiss K', 'north owens', 'north school section H',\n",
       "       'section 8', 'top', 'east weiss K', 'section 4', 'west weiss E',\n",
       "       'west weiss C', 'hogsback', 'north school section', 'rattlesnake',\n",
       "       'upper rattlesnake'], dtype=object)"
      ]
     },
     "execution_count": 20,
     "metadata": {},
     "output_type": "execute_result"
    }
   ],
   "source": [
    "df_wtgn_bm.Pasture.unique()"
   ]
  },
  {
   "cell_type": "code",
   "execution_count": 21,
   "id": "5835fb10-4af6-45c7-9160-fcc8f624f637",
   "metadata": {},
   "outputs": [],
   "source": [
    "df_wtgn_bm = pd.merge(df_wtgn_bm,\n",
    "                      gdf_wtgn[['Join_ID', 'Mean.GPS_E.Biomass', 'Mean.GPS_N.Biomass']],\n",
    "                      on= 'Join_ID',\n",
    "                      suffixes=['_clip', '_shp'],\n",
    "                      how='left')"
   ]
  },
  {
   "cell_type": "code",
   "execution_count": 22,
   "id": "cb562b45-347f-4d66-af92-4e2f1d20f1a5",
   "metadata": {},
   "outputs": [],
   "source": [
    "#df_wtgn_bm"
   ]
  },
  {
   "cell_type": "code",
   "execution_count": 23,
   "id": "ae94f9a4-221b-45fe-856d-b4a77fbd7421",
   "metadata": {},
   "outputs": [],
   "source": [
    "df_wtgn_bm.to_csv(os.path.join(os.getcwd(), outDIR_clip, 'TB_wtgn_clip.csv'), index=False)"
   ]
  },
  {
   "cell_type": "markdown",
   "id": "f074758d-45a7-4084-979f-6c2b0fa37cfa",
   "metadata": {
    "tags": []
   },
   "source": [
    "# VOR"
   ]
  },
  {
   "cell_type": "markdown",
   "id": "052dd094-da51-47ad-88ca-79c4ab87c6e6",
   "metadata": {},
   "source": [
    "### *Additional cleaning*"
   ]
  },
  {
   "cell_type": "code",
   "execution_count": 24,
   "id": "69df388f-4bf7-4d6d-87bf-df4cc3d6daf4",
   "metadata": {},
   "outputs": [
    {
     "data": {
      "text/plain": [
       "Index(['entered by', 'observers', 'ranch', 'pasture', 'PD', 'Plot', 'photos',\n",
       "       'pre graze reading?', 'post graze reading?', 'Date', 'Year',\n",
       "       'distance (m)', 'VOR position', 'reading (high/low)', 'VOR',\n",
       "       'VOR_adjusted', 'species', 'notes', '5m east adjusted northing',\n",
       "       '5m east adjusted easting', 'trimble pt', '3m VOR distance'],\n",
       "      dtype='object')"
      ]
     },
     "execution_count": 24,
     "metadata": {},
     "output_type": "execute_result"
    }
   ],
   "source": [
    "df_wtgn_vor = df_wtgn_vor.rename(columns={'PD Colony?': 'PD'})\n",
    "df_wtgn_vor.loc[:, 'PD'] = df_wtgn_vor['PD'].transform(lambda x: 'Yes' if x=='y' else 'No' if x=='n' else '')\n",
    "df_wtgn_vor.columns"
   ]
  },
  {
   "cell_type": "code",
   "execution_count": 25,
   "id": "2293aaff-73e7-4d55-a85b-da3fa7de7d20",
   "metadata": {},
   "outputs": [
    {
     "data": {
      "text/plain": [
       "array(['No', 'Yes'], dtype=object)"
      ]
     },
     "execution_count": 25,
     "metadata": {},
     "output_type": "execute_result"
    }
   ],
   "source": [
    "df_wtgn_vor['PD'].unique()"
   ]
  },
  {
   "cell_type": "code",
   "execution_count": 26,
   "id": "b7d7d2ad-44de-4b07-816c-71886d14995c",
   "metadata": {},
   "outputs": [],
   "source": [
    "# drop data with missing dates\n",
    "df_wtgn_vor = df_wtgn_vor[~df_wtgn_vor['Date'].isin(['nan', 'na', np.nan])]\n",
    "# drop data with note about plot center\n",
    "df_wtgn_vor = df_wtgn_vor[~(df_wtgn_vor['notes'].notnull() &\n",
    "                           df_wtgn_vor['notes'].str.contains('2.5m across center of plot'))]"
   ]
  },
  {
   "cell_type": "code",
   "execution_count": 27,
   "id": "d4d99d0c-93d0-466a-8743-f097184f87c4",
   "metadata": {},
   "outputs": [],
   "source": [
    "# convert date column to datetime object\n",
    "df_wtgn_vor.loc[:, 'Date'] = pd.to_datetime(df_wtgn_vor['Date'])\n",
    "\n",
    "# get subset of 2019 data to drop based solely on sample date\n",
    "df_wtgn_vor_2019_bad = df_wtgn_vor[df_wtgn_vor['Date'] <= datetime.datetime(2019, 6, 24)]"
   ]
  },
  {
   "cell_type": "code",
   "execution_count": 28,
   "id": "7641d9fb-f7ca-4083-8b06-4565ae3d0751",
   "metadata": {},
   "outputs": [],
   "source": [
    "\"\"\"drop all data collected prior to 06/24/2019 and \n",
    "plots resampled in 2019 that were first sampled prior\"\"\"\n",
    "# get unique pasture/plot/position combos that were sampled prior to 2019 cut-off date\n",
    "vor_bad_ids = df_wtgn_vor_2019_bad.apply(lambda x: '_'.join([x['pasture'],\n",
    "                                                             x['PD'],\n",
    "                                                             str(x['Plot']),\n",
    "                                                             x['VOR position'],\n",
    "                                                             str(x['Date'].year)]), axis=1)\n",
    "\n",
    "# remove all matching id's from dataset\n",
    "df_wtgn_vor = df_wtgn_vor[~df_wtgn_vor.apply(lambda x: '_'.join([x['pasture'],\n",
    "                                                                 x['PD'],\n",
    "                                                                 str(x['Plot']),\n",
    "                                                                 x['VOR position'],\n",
    "                                                                 str(x['Date'].year)]), axis=1).isin(vor_bad_ids)]"
   ]
  },
  {
   "cell_type": "code",
   "execution_count": 29,
   "id": "78fc38b8-2dfa-41f9-9890-0e7f8465a88f",
   "metadata": {},
   "outputs": [],
   "source": [
    "df_wtgn_vor.loc[df_wtgn_vor['species'].isnull(), 'species'] = ''"
   ]
  },
  {
   "cell_type": "code",
   "execution_count": 30,
   "id": "78b351d3-5d75-419e-8ac7-fc79cb4aa7b0",
   "metadata": {},
   "outputs": [],
   "source": [
    "df_wtgn_vor['species'] = df_wtgn_vor['species'].apply(lambda x: re.sub(' ', '', x) if (x.endswith(' ') or x.startswith(' ')) else x)"
   ]
  },
  {
   "cell_type": "code",
   "execution_count": 31,
   "id": "dc002d44-9c5c-4444-924d-b5576b29ebc0",
   "metadata": {},
   "outputs": [],
   "source": [
    "#df_wtgn_vor['species'][~df_wtgn_vor['species'].isin(ground_spp+vor_spp_drop_list)].sort_values().unique()#.sort()"
   ]
  },
  {
   "cell_type": "code",
   "execution_count": 32,
   "id": "f5a4e205-23b4-40fc-b049-2da15aa11feb",
   "metadata": {},
   "outputs": [],
   "source": [
    "# convert all VOR readings > 90 cm to 90 cm and store as integers\n",
    "df_wtgn_vor.loc[df_wtgn_vor['VOR_adjusted'] == '>90', 'VOR_adjusted'] = np.nan\n",
    "df_wtgn_vor.loc[df_wtgn_vor['VOR_adjusted'] == '90+', 'VOR_adjusted'] = np.nan\n",
    "df_wtgn_vor['VOR_adjusted'] = df_wtgn_vor['VOR_adjusted'].astype(float)\n",
    "\n",
    "# create list of non-veg species\n",
    "non_veg_spp = ['BARE', 'Bare', 'BARE/MOSS', 'DUNG', 'ROCK', 'LITTER', 'dead log']\n",
    "# create list of species to drop from VOR data\n",
    "vor_spp_drop_list = ['ARFI', 'ARTR', 'ARCA', 'ATCA', 'ATGA', 'CHVI', 'ERNA', 'EREF', 'KRLA', 'RHTR', 'SAVE',\n",
    "                     'arfi', 'artr', 'arca', 'atca', 'atga', 'chvi', 'erna', 'eref', 'krla', 'rhtr', 'save',\n",
    "                     'OPPO', 'oppo',\n",
    "                     'SD ARTR', 'SD ATCA', 'PASM/SD ARTR', 'AGCR/ARTR', 'OPPO/PASM']\n",
    "\n",
    "# drop VOR readings in species list\n",
    "df_wtgn_vor_spp_bad = df_wtgn_vor[df_wtgn_vor['species'].isin(vor_spp_drop_list)]\n",
    "\n",
    "# get unique pasture/plot/position combos that were sampled prior to 2019 cut-off date\n",
    "vor_bad_ids2 = df_wtgn_vor_spp_bad.apply(lambda x: '_'.join([x['pasture'],\n",
    "                                                             x['PD'],\n",
    "                                                             str(x['Plot']),\n",
    "                                                             x['VOR position'],\n",
    "                                                             str(x['Date'])]), axis=1)\n",
    "\n",
    "# remove all matching id's from dataset\n",
    "df_wtgn_vor = df_wtgn_vor[~df_wtgn_vor.apply(lambda x: '_'.join([x['pasture'],\n",
    "                                                                 x['PD'],\n",
    "                                                                 str(x['Plot']),\n",
    "                                                                 x['VOR position'],\n",
    "                                                                 str(x['Date'])]), axis=1).isin(vor_bad_ids2)]"
   ]
  },
  {
   "cell_type": "code",
   "execution_count": 33,
   "id": "9ca40bde-5ad1-48ed-8b2f-64dbc6020588",
   "metadata": {},
   "outputs": [],
   "source": [
    "# remove all VOR values of -1\n",
    "df_wtgn_vor = df_wtgn_vor[~(df_wtgn_vor['VOR_adjusted'] < 0.0)]"
   ]
  },
  {
   "cell_type": "code",
   "execution_count": 34,
   "id": "0c75bb13-7b8a-4270-94c3-b32aedffe6f9",
   "metadata": {},
   "outputs": [
    {
     "data": {
      "text/plain": [
       "array(['BARE', 'BARE/MOSS', 'PASM', 'MAGR', '', 'BOGR', 'ERPA', 'BRTE',\n",
       "       'BRAR', 'KOMA', 'TEAC', 'CAFI', 'ARPU', 'PLPA', 'HECO', 'OOMU',\n",
       "       'LOAR', 'CALO', 'Bare', 'PF', 'ALTE', 'SCSC'], dtype=object)"
      ]
     },
     "execution_count": 34,
     "metadata": {},
     "output_type": "execute_result"
    }
   ],
   "source": [
    "# check species of any 0 value readings\n",
    "df_wtgn_vor[df_wtgn_vor['VOR_adjusted'] < 1]['species'].unique()"
   ]
  },
  {
   "cell_type": "code",
   "execution_count": 35,
   "id": "b311fd95-1226-466f-a892-9117794c0b58",
   "metadata": {},
   "outputs": [],
   "source": [
    "# drop any readings of non-veg species that are > 0\n",
    "df_wtgn_vor = df_wtgn_vor[~(df_wtgn_vor['species'].isin(non_veg_spp) & (df_wtgn_vor['VOR_adjusted'] > 0))]"
   ]
  },
  {
   "cell_type": "code",
   "execution_count": 36,
   "id": "9b7c8ee4-a3f6-4b81-a571-17c78ff962f4",
   "metadata": {},
   "outputs": [],
   "source": [
    "# add 1 to all VOR readings that have a non-bare species value\n",
    "#df_wtgn_vor.loc[:, 'VOR_adjusted'] = df_wtgn_vor.apply(\n",
    "#    lambda x: x['VOR_adjusted'] if x['species'] in non_veg_spp else x['VOR_adjusted'] + 1, axis=1)"
   ]
  },
  {
   "cell_type": "markdown",
   "id": "0e0eba59-05ce-4f8f-8fc8-e1e3e5d94161",
   "metadata": {},
   "source": [
    "### *Additional prep*"
   ]
  },
  {
   "cell_type": "code",
   "execution_count": 37,
   "id": "5dd7b3e1-401f-4ad6-8f75-368bb59c99d3",
   "metadata": {},
   "outputs": [],
   "source": [
    "# get mean of any repeat measurements within groups\n",
    "df_wtgn_vor = df_wtgn_vor.groupby(['pasture', 'PD', 'Plot', 'Date', \n",
    "                         'VOR position', 'reading (high/low)'])['VOR_adjusted'].mean().reset_index()\n",
    "# separate low and high VOR readings to separate columns\n",
    "df_wtgn_vor = df_wtgn_vor.pivot(index=['pasture', 'PD', 'Plot', 'Date', \n",
    "                         'VOR position'], \n",
    "                  columns='reading (high/low)', values='VOR_adjusted').reset_index()\n",
    "# rename VOR columns to match other datasets\n",
    "df_wtgn_vor = df_wtgn_vor.rename(columns={'low': 'Low_cm',\n",
    "                                          'high': 'High_cm'})\n",
    "# drop name associated with columns\n",
    "df_wtgn_vor.columns.name = None\n",
    "\n",
    "# drop VOR where low > high as suspected data entry errors\n",
    "df_wtgn_vor = df_wtgn_vor[df_wtgn_vor['Low_cm'] <= df_wtgn_vor['High_cm']]"
   ]
  },
  {
   "cell_type": "markdown",
   "id": "87c47407-a592-43aa-aa62-93254bbb8671",
   "metadata": {},
   "source": [
    "### *Combine with biomass dataset*"
   ]
  },
  {
   "cell_type": "code",
   "execution_count": 38,
   "id": "1dbeb288-ea7a-4902-bf32-edf748038e9a",
   "metadata": {},
   "outputs": [
    {
     "data": {
      "text/plain": [
       "array(['ne cameron place', 'center owens', 'east ne weiss', 'mid weiss G',\n",
       "       'mid weiss K', 'north owens', 'north school section H',\n",
       "       'section 8', 'top', 'east weiss K', 'section 4', 'west weiss E',\n",
       "       'west weiss C', 'hogsback', 'north school section', 'rattlesnake',\n",
       "       'upper rattlesnake'], dtype=object)"
      ]
     },
     "execution_count": 38,
     "metadata": {},
     "output_type": "execute_result"
    }
   ],
   "source": [
    "df_wtgn_bm['Pasture'].unique()"
   ]
  },
  {
   "cell_type": "code",
   "execution_count": 39,
   "id": "027ee7d4-e7f4-44f4-ac31-ca36af1bd595",
   "metadata": {},
   "outputs": [
    {
     "data": {
      "text/plain": [
       "[]"
      ]
     },
     "execution_count": 39,
     "metadata": {},
     "output_type": "execute_result"
    }
   ],
   "source": [
    "[x for x in df_wtgn_bm['Pasture'].unique() if x not in df_wtgn_vor['pasture'].unique()]"
   ]
  },
  {
   "cell_type": "code",
   "execution_count": 40,
   "id": "02e9442c-a31f-4e83-97e3-4e9219ef10b8",
   "metadata": {},
   "outputs": [
    {
     "data": {
      "text/plain": [
       "['downey 5-6', 'middle lake creek', 'section 9']"
      ]
     },
     "execution_count": 40,
     "metadata": {},
     "output_type": "execute_result"
    }
   ],
   "source": [
    "[x for x in df_wtgn_vor['pasture'].unique() if x not in df_wtgn_bm['Pasture'].unique()]"
   ]
  },
  {
   "cell_type": "code",
   "execution_count": 41,
   "id": "90475ee1-ff95-44ba-8501-05407ae7c6f1",
   "metadata": {},
   "outputs": [],
   "source": [
    "# prep for creating unique ID's\n",
    "df_wtgn_vor = df_wtgn_vor.rename(columns={'pasture': 'Pasture'})\n",
    "df_wtgn_vor['Plot'] = df_wtgn_vor['Plot'].astype(int)\n",
    "df_wtgn_vor = df_wtgn_vor[df_wtgn_vor['Pasture'].notnull()]"
   ]
  },
  {
   "cell_type": "code",
   "execution_count": 42,
   "id": "c3dd4d70-7223-48ad-8a3e-c2a39d53d092",
   "metadata": {},
   "outputs": [
    {
     "data": {
      "text/plain": [
       "Index(['Pasture', 'PD', 'Plot', 'Date', 'VOR position', 'High_cm', 'Low_cm'], dtype='object')"
      ]
     },
     "execution_count": 42,
     "metadata": {},
     "output_type": "execute_result"
    }
   ],
   "source": [
    "df_wtgn_vor.columns"
   ]
  },
  {
   "cell_type": "code",
   "execution_count": 43,
   "id": "26c1b2b0-4868-4acd-9e31-c9e8ae567be5",
   "metadata": {},
   "outputs": [],
   "source": [
    "# create unique id's of pasture+plot+PD that match for shape and clip data.\n",
    "df_wtgn_vor.loc[:, 'Pasture_shp'] = df_wtgn_vor['Pasture'].transform(\n",
    "    lambda x: past_name_dict[x] if x in past_name_dict.keys() else x)\n",
    "df_wtgn_vor.loc[:, 'Pasture_shp'] = df_wtgn_vor['Pasture_shp'].transform(\n",
    "    lambda x: re.sub(' ', '_', x))\n",
    "df_wtgn_vor.loc[:, 'Join_ID'] = df_wtgn_vor.apply(lambda x: '_'.join([x['Pasture_shp'], \n",
    "                                    'Pt' + str(x['Plot']),\n",
    "                                    x['PD']]),\n",
    "                 axis=1)"
   ]
  },
  {
   "cell_type": "markdown",
   "id": "c9b48183-e219-48ac-9e9d-b07481cbb310",
   "metadata": {},
   "source": [
    "### Save VOR data to disk prior to joining with clipped data"
   ]
  },
  {
   "cell_type": "code",
   "execution_count": 44,
   "id": "6dce2b2c-b141-47a3-ac1e-021ed1e2287c",
   "metadata": {},
   "outputs": [],
   "source": [
    "# get mean of each experimental unit\n",
    "df_wtgn_vor_out = df_wtgn_vor.groupby(\n",
    "    ['Date', 'Pasture', 'PD', 'Plot', 'Join_ID']).mean().reset_index()\n",
    "\n",
    "# reset the year column\n",
    "df_wtgn_vor_out['Year'] = df_wtgn_vor_out['Date'].dt.year\n",
    "\n",
    "# get count of valid VOR observations and drop any <= 2 (50%)\n",
    "df_wtgn_vor_out['vor_reading_ct'] = df_wtgn_vor.groupby(\n",
    "    ['Date', 'Pasture', 'PD', 'Plot']).count().reset_index()['Low_cm']\n",
    "df_wtgn_vor_out = df_wtgn_vor_out[df_wtgn_vor_out['vor_reading_ct'] > 2]\n",
    "\n",
    "# join GPS locs to VOR data\n",
    "df_wtgn_vor_out = pd.merge(df_wtgn_vor_out,\n",
    "                           gdf_wtgn[['Join_ID', 'Mean.GPS_E.Biomass', 'Mean.GPS_N.Biomass']],\n",
    "                           on= 'Join_ID',\n",
    "                           suffixes=['_vor', '_shp'],\n",
    "                           how='left')\n",
    "\n",
    "# save to disk\n",
    "df_wtgn_vor_out.to_csv(os.path.join(os.getcwd(), outDIR_vor, 'TB_wtgn_vor.csv'), index=False)"
   ]
  },
  {
   "cell_type": "markdown",
   "id": "13261e71-cb62-46e3-8183-5faed520fc14",
   "metadata": {},
   "source": [
    "### Merge VOR and clipping data"
   ]
  },
  {
   "cell_type": "code",
   "execution_count": 45,
   "id": "91d68b27-3cf3-4a39-b297-39ec58b74ce8",
   "metadata": {},
   "outputs": [],
   "source": [
    "# join Biomass and VOR datasets using Biomass dates with a definted maximum threshold of date difference\n",
    "df_wtgn_vor = pd.merge_asof(df_wtgn_vor.sort_values('Date'), \n",
    "              df_wtgn_bm.sort_values('Date')[['Date',\n",
    "                                              'Pasture',\n",
    "                                              'PD',\n",
    "                                              'Plot',\n",
    "                                              'Total Weight (g/m^2)',\n",
    "                                              'Mean.GPS_E.Biomass',\n",
    "                                              'Mean.GPS_N.Biomass']],\n",
    "                           left_on='Date',\n",
    "                           right_on='Date',\n",
    "                           by=['Pasture', 'PD', 'Plot'],\n",
    "                           direction='nearest',\n",
    "                           tolerance=datetime.timedelta(days=10),\n",
    "                           suffixes=['_x', ''],)"
   ]
  },
  {
   "cell_type": "code",
   "execution_count": 46,
   "id": "1af5ceb5-86ab-4eed-a6c0-2321c68d0f93",
   "metadata": {},
   "outputs": [],
   "source": [
    "# drop any records missing Biomass data\n",
    "df_wtgn_vor = df_wtgn_vor[df_wtgn_vor['Total Weight (g/m^2)'].notnull()]"
   ]
  },
  {
   "cell_type": "markdown",
   "id": "ae6970ea-108e-49ce-b36e-cad9a79b7004",
   "metadata": {},
   "source": [
    "### *Create dataset of mean values by experimental unit*"
   ]
  },
  {
   "cell_type": "code",
   "execution_count": 47,
   "id": "f5de082e-e072-4b0f-b570-cd9bb8806e20",
   "metadata": {},
   "outputs": [],
   "source": [
    "# get mean of each experimental unit\n",
    "df_wtgn_vor_agg = df_wtgn_vor.groupby(\n",
    "    ['Date', 'Pasture', 'PD', 'Plot']).mean().reset_index()\n",
    "\n",
    "# reset the year column\n",
    "df_wtgn_vor_agg['Year'] = df_wtgn_vor_agg['Date'].dt.year"
   ]
  },
  {
   "cell_type": "code",
   "execution_count": 48,
   "id": "c53b09ca-0e11-4d82-ba60-ef69d0729b80",
   "metadata": {},
   "outputs": [],
   "source": [
    "# get count of valid VOR observations and drop any <= 2 (50%)\n",
    "df_wtgn_vor_agg['vor_reading_ct'] = df_wtgn_vor.groupby(\n",
    "    ['Date', 'Pasture', 'PD', 'Plot']).count().reset_index()['Low_cm']\n",
    "\n",
    "df_wtgn_vor_agg = df_wtgn_vor_agg[df_wtgn_vor_agg['vor_reading_ct'] > 2]"
   ]
  },
  {
   "cell_type": "markdown",
   "id": "38f227e7-abd8-4737-9e4e-0b076814c413",
   "metadata": {},
   "source": [
    "### *Check data and save to disk*"
   ]
  },
  {
   "cell_type": "code",
   "execution_count": 49,
   "id": "38da1460-6871-4c69-94d0-73bb3566ccff",
   "metadata": {},
   "outputs": [
    {
     "data": {
      "text/plain": [
       "<seaborn.axisgrid.FacetGrid at 0x7fe6f2f255e0>"
      ]
     },
     "execution_count": 49,
     "metadata": {},
     "output_type": "execute_result"
    },
    {
     "data": {
      "image/png": "[encoded data removed]",
      "text/plain": [
       "<Figure size 585.5x500 with 1 Axes>"
      ]
     },
     "metadata": {},
     "output_type": "display_data"
    }
   ],
   "source": [
    "# plot linear fit of low VOR reading and Biomass\n",
    "sns.lmplot(\n",
    "    #x='High_cm', \n",
    "    x='Low_cm',\n",
    "    y='Total Weight (g/m^2)',\n",
    "    hue='Year', ci=None,\n",
    "    data=df_wtgn_vor_agg)"
   ]
  },
  {
   "cell_type": "code",
   "execution_count": 50,
   "id": "780906a8-9937-46d1-b369-ab43561f3880",
   "metadata": {},
   "outputs": [],
   "source": [
    "#df_wtgn_bm.columns"
   ]
  },
  {
   "cell_type": "code",
   "execution_count": 51,
   "id": "c9e69bb1-3d8f-4d2f-8750-5f44b08daf55",
   "metadata": {},
   "outputs": [],
   "source": [
    "# save final data to disk\n",
    "df_wtgn_vor_agg.to_csv(os.path.join(os.getcwd(), outDIR_vor_train, 'TB_wtgn_vor_train.csv'), index=False)"
   ]
  },
  {
   "cell_type": "code",
   "execution_count": 52,
   "id": "b1fe6873-4beb-4731-b498-7a936fc73bab",
   "metadata": {},
   "outputs": [],
   "source": [
    "import statsmodels.formula.api as smf\n",
    "mod_both = smf.ols(\"np.sqrt(Q('Total Weight (g/m^2)')) ~ High_cm + Low_cm\", data=df_wtgn_vor_agg).fit()"
   ]
  },
  {
   "cell_type": "code",
   "execution_count": 53,
   "id": "bb3740a6-0997-4fe6-83e3-a7eac45b1cb9",
   "metadata": {},
   "outputs": [
    {
     "data": {
      "text/html": [
       "<table class=\"simpletable\">\n",
       "<caption>OLS Regression Results</caption>\n",
       "<tr>\n",
       "  <th>Dep. Variable:</th>    <td>np.sqrt(Q('Total Weight (g/m^2)'))</td> <th>  R-squared:         </th> <td>   0.533</td>\n",
       "</tr>\n",
       "<tr>\n",
       "  <th>Model:</th>                            <td>OLS</td>                <th>  Adj. R-squared:    </th> <td>   0.529</td>\n",
       "</tr>\n",
       "<tr>\n",
       "  <th>Method:</th>                      <td>Least Squares</td>           <th>  F-statistic:       </th> <td>   142.7</td>\n",
       "</tr>\n",
       "<tr>\n",
       "  <th>Date:</th>                      <td>Thu, 01 May 2025</td>          <th>  Prob (F-statistic):</th> <td>4.63e-42</td>\n",
       "</tr>\n",
       "<tr>\n",
       "  <th>Time:</th>                          <td>13:38:55</td>              <th>  Log-Likelihood:    </th> <td> -544.72</td>\n",
       "</tr>\n",
       "<tr>\n",
       "  <th>No. Observations:</th>               <td>   253</td>               <th>  AIC:               </th> <td>   1095.</td>\n",
       "</tr>\n",
       "<tr>\n",
       "  <th>Df Residuals:</th>                   <td>   250</td>               <th>  BIC:               </th> <td>   1106.</td>\n",
       "</tr>\n",
       "<tr>\n",
       "  <th>Df Model:</th>                       <td>     2</td>               <th>                     </th>     <td> </td>   \n",
       "</tr>\n",
       "<tr>\n",
       "  <th>Covariance Type:</th>               <td>nonrobust</td>             <th>                     </th>     <td> </td>   \n",
       "</tr>\n",
       "</table>\n",
       "<table class=\"simpletable\">\n",
       "<tr>\n",
       "      <td></td>         <th>coef</th>     <th>std err</th>      <th>t</th>      <th>P>|t|</th>  <th>[0.025</th>    <th>0.975]</th>  \n",
       "</tr>\n",
       "<tr>\n",
       "  <th>Intercept</th> <td>    4.7623</td> <td>    0.344</td> <td>   13.863</td> <td> 0.000</td> <td>    4.086</td> <td>    5.439</td>\n",
       "</tr>\n",
       "<tr>\n",
       "  <th>High_cm</th>   <td>    0.1246</td> <td>    0.022</td> <td>    5.790</td> <td> 0.000</td> <td>    0.082</td> <td>    0.167</td>\n",
       "</tr>\n",
       "<tr>\n",
       "  <th>Low_cm</th>    <td>    0.3193</td> <td>    0.047</td> <td>    6.764</td> <td> 0.000</td> <td>    0.226</td> <td>    0.412</td>\n",
       "</tr>\n",
       "</table>\n",
       "<table class=\"simpletable\">\n",
       "<tr>\n",
       "  <th>Omnibus:</th>       <td>21.896</td> <th>  Durbin-Watson:     </th> <td>   1.622</td>\n",
       "</tr>\n",
       "<tr>\n",
       "  <th>Prob(Omnibus):</th> <td> 0.000</td> <th>  Jarque-Bera (JB):  </th> <td>  26.465</td>\n",
       "</tr>\n",
       "<tr>\n",
       "  <th>Skew:</th>          <td> 0.656</td> <th>  Prob(JB):          </th> <td>1.79e-06</td>\n",
       "</tr>\n",
       "<tr>\n",
       "  <th>Kurtosis:</th>      <td> 3.888</td> <th>  Cond. No.          </th> <td>    60.6</td>\n",
       "</tr>\n",
       "</table><br/><br/>Notes:<br/>[1] Standard Errors assume that the covariance matrix of the errors is correctly specified."
      ],
      "text/plain": [
       "<class 'statsmodels.iolib.summary.Summary'>\n",
       "\"\"\"\n",
       "                                    OLS Regression Results                                    \n",
       "==============================================================================================\n",
       "Dep. Variable:     np.sqrt(Q('Total Weight (g/m^2)'))   R-squared:                       0.533\n",
       "Model:                                            OLS   Adj. R-squared:                  0.529\n",
       "Method:                                 Least Squares   F-statistic:                     142.7\n",
       "Date:                                Thu, 01 May 2025   Prob (F-statistic):           4.63e-42\n",
       "Time:                                        13:38:55   Log-Likelihood:                -544.72\n",
       "No. Observations:                                 253   AIC:                             1095.\n",
       "Df Residuals:                                     250   BIC:                             1106.\n",
       "Df Model:                                           2                                         \n",
       "Covariance Type:                            nonrobust                                         \n",
       "==============================================================================\n",
       "                 coef    std err          t      P>|t|      [0.025      0.975]\n",
       "------------------------------------------------------------------------------\n",
       "Intercept      4.7623      0.344     13.863      0.000       4.086       5.439\n",
       "High_cm        0.1246      0.022      5.790      0.000       0.082       0.167\n",
       "Low_cm         0.3193      0.047      6.764      0.000       0.226       0.412\n",
       "==============================================================================\n",
       "Omnibus:                       21.896   Durbin-Watson:                   1.622\n",
       "Prob(Omnibus):                  0.000   Jarque-Bera (JB):               26.465\n",
       "Skew:                           0.656   Prob(JB):                     1.79e-06\n",
       "Kurtosis:                       3.888   Cond. No.                         60.6\n",
       "==============================================================================\n",
       "\n",
       "Notes:\n",
       "[1] Standard Errors assume that the covariance matrix of the errors is correctly specified.\n",
       "\"\"\""
      ]
     },
     "execution_count": 53,
     "metadata": {},
     "output_type": "execute_result"
    }
   ],
   "source": [
    "mod_both.summary()"
   ]
  },
  {
   "cell_type": "code",
   "execution_count": null,
   "id": "915e6789-b56c-4783-9e05-972f1d29df49",
   "metadata": {},
   "outputs": [],
   "source": []
  },
  {
   "cell_type": "code",
   "execution_count": null,
   "id": "f9ced17b-7f8a-4e31-839c-216ca7aaf1a9",
   "metadata": {},
   "outputs": [],
   "source": []
  }
 ],
 "metadata": {
  "kernelspec": {
   "display_name": "Python 3 (ipykernel)",
   "language": "python",
   "name": "python3"
  },
  "language_info": {
   "codemirror_mode": {
    "name": "ipython",
    "version": 3
   },
   "file_extension": ".py",
   "mimetype": "text/x-python",
   "name": "python",
   "nbconvert_exporter": "python",
   "pygments_lexer": "ipython3",
   "version": "3.9.12"
  }
 },
 "nbformat": 4,
 "nbformat_minor": 5
}
