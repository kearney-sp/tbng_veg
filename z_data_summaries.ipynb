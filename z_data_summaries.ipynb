{
 "cells": [
  {
   "cell_type": "code",
   "execution_count": 1,
   "id": "7771c744-a702-4e09-be0b-da6fde4df808",
   "metadata": {},
   "outputs": [],
   "source": [
    "import os\n",
    "import pandas as pd"
   ]
  },
  {
   "cell_type": "code",
   "execution_count": 3,
   "id": "70d0c2f3-6ac3-4332-b7de-9255dceb4164",
   "metadata": {},
   "outputs": [],
   "source": [
    "df_vor_duch = pd.read_csv('data/vor/TB_duch_vor.csv')\n",
    "df_vor_gmdr = pd.read_csv('data/vor/TB_gmdr_vor.csv')\n",
    "df_vor_nex = pd.read_csv('data/vor/TB_nex_vor.csv')\n",
    "df_vor_wtgn = pd.read_csv('data/vor/TB_wtgn_vor.csv')"
   ]
  },
  {
   "cell_type": "code",
   "execution_count": 20,
   "id": "55ed412e-f1b4-4b95-8c2d-8efc3cc9fde3",
   "metadata": {},
   "outputs": [],
   "source": [
    "df_clip_fire = pd.read_csv('data/clip/TB_fire_clip.csv')\n",
    "df_clip_nex = pd.read_csv('data/clip/TB_nex_clip.csv')\n",
    "df_clip_pdog = pd.read_csv('data/clip/TB_pdog_clip.csv')\n",
    "df_clip_wtgn = pd.read_csv('data/clip/TB_wtgn_clip.csv')"
   ]
  },
  {
   "cell_type": "code",
   "execution_count": 9,
   "id": "33152f6a-49b8-46b6-9ea0-5a09844d2e8e",
   "metadata": {},
   "outputs": [
    {
     "data": {
      "text/plain": [
       "Year\n",
       "2015    420\n",
       "2016    393\n",
       "2017    411\n",
       "2018    283\n",
       "2019    258\n",
       "dtype: int64"
      ]
     },
     "execution_count": 9,
     "metadata": {},
     "output_type": "execute_result"
    }
   ],
   "source": [
    "df_vor_duch['ID'] = df_vor_duch.apply(lambda x: '_'.join(x[['Transect', 'Point']]), axis=1)\n",
    "df_vor_duch.groupby('Year').apply(lambda x: len(x['ID'].unique()))"
   ]
  },
  {
   "cell_type": "code",
   "execution_count": 21,
   "id": "6da7855f-6d9b-4ae9-8826-f18d060d45a0",
   "metadata": {},
   "outputs": [
    {
     "data": {
      "text/plain": [
       "Year\n",
       "2015    36\n",
       "2016    36\n",
       "2017    35\n",
       "2018    36\n",
       "2019    36\n",
       "2020    33\n",
       "2021    33\n",
       "2022    30\n",
       "dtype: int64"
      ]
     },
     "execution_count": 21,
     "metadata": {},
     "output_type": "execute_result"
    }
   ],
   "source": [
    "df_vor_nex.groupby('Year').apply(lambda x: len(x['Transect ID'].unique()))"
   ]
  },
  {
   "cell_type": "code",
   "execution_count": 14,
   "id": "fd7eb803-29e6-4082-9a82-d96adf0858ea",
   "metadata": {},
   "outputs": [
    {
     "data": {
      "text/plain": [
       "Year\n",
       "2019     47\n",
       "2020     56\n",
       "2021    100\n",
       "dtype: int64"
      ]
     },
     "execution_count": 14,
     "metadata": {},
     "output_type": "execute_result"
    }
   ],
   "source": [
    "df_vor_wtgn.groupby('Year').apply(lambda x: len(x['Join_ID'].unique()))"
   ]
  },
  {
   "cell_type": "code",
   "execution_count": 24,
   "id": "23e9dc85-3193-405d-b5f9-31d32dfc4dcf",
   "metadata": {},
   "outputs": [
    {
     "data": {
      "text/plain": [
       "Year\n",
       "2015    98\n",
       "dtype: int64"
      ]
     },
     "execution_count": 24,
     "metadata": {},
     "output_type": "execute_result"
    }
   ],
   "source": [
    "df_clip_fire['Date'] = pd.to_datetime(df_clip_fire['Date'])\n",
    "df_clip_fire['Year'] = df_clip_fire['Date'].dt.year\n",
    "df_clip_fire.groupby('Year').apply(lambda x: len(x['Transect ID'].unique()))"
   ]
  },
  {
   "cell_type": "code",
   "execution_count": 26,
   "id": "a4c0026f-dc33-499b-ab2d-43f7898161c2",
   "metadata": {},
   "outputs": [
    {
     "data": {
      "text/plain": [
       "Year\n",
       "2015.0    36\n",
       "2016.0    36\n",
       "2017.0    36\n",
       "2018.0    36\n",
       "2019.0    36\n",
       "2020.0    33\n",
       "2021.0    30\n",
       "2022.0    33\n",
       "dtype: int64"
      ]
     },
     "execution_count": 26,
     "metadata": {},
     "output_type": "execute_result"
    }
   ],
   "source": [
    "df_clip_nex.groupby('Year').apply(lambda x: len(x['Transect ID'].unique()))"
   ]
  },
  {
   "cell_type": "code",
   "execution_count": 28,
   "id": "d1c7e382-47ba-4794-a78d-48d1dfb76ff4",
   "metadata": {},
   "outputs": [
    {
     "data": {
      "text/plain": [
       "Year\n",
       "2017.0    84\n",
       "2018.0    50\n",
       "2019.0    52\n",
       "2021.0    64\n",
       "dtype: int64"
      ]
     },
     "execution_count": 28,
     "metadata": {},
     "output_type": "execute_result"
    }
   ],
   "source": [
    "df_clip_pdog.groupby('Year').apply(lambda x: len(x['Point'].unique()))"
   ]
  },
  {
   "cell_type": "code",
   "execution_count": 30,
   "id": "86779ea6-afba-4548-bead-ec265180b323",
   "metadata": {},
   "outputs": [
    {
     "data": {
      "text/plain": [
       "Year\n",
       "2019    80\n",
       "2020    59\n",
       "dtype: int64"
      ]
     },
     "execution_count": 30,
     "metadata": {},
     "output_type": "execute_result"
    }
   ],
   "source": [
    "df_clip_wtgn.groupby('Year').apply(lambda x: len(x['Join_ID'].unique()))"
   ]
  },
  {
   "cell_type": "code",
   "execution_count": null,
   "id": "5d8479e6-d22c-45f9-baed-7caf21ddac57",
   "metadata": {},
   "outputs": [],
   "source": []
  }
 ],
 "metadata": {
  "kernelspec": {
   "display_name": "Python 3 (ipykernel)",
   "language": "python",
   "name": "python3"
  },
  "language_info": {
   "codemirror_mode": {
    "name": "ipython",
    "version": 3
   },
   "file_extension": ".py",
   "mimetype": "text/x-python",
   "name": "python",
   "nbconvert_exporter": "python",
   "pygments_lexer": "ipython3",
   "version": "3.9.12"
  }
 },
 "nbformat": 4,
 "nbformat_minor": 5
}
